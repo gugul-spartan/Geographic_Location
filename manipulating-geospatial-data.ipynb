{
 "cells": [
  {
   "cell_type": "markdown",
   "id": "e7a48883",
   "metadata": {
    "papermill": {
     "duration": 0.038569,
     "end_time": "2022-03-14T19:29:24.235780",
     "exception": false,
     "start_time": "2022-03-14T19:29:24.197211",
     "status": "completed"
    },
    "tags": []
   },
   "source": [
    "# Introduction\n",
    "\n",
    "You are a Starbucks big data analyst ([that’s a real job!](https://www.forbes.com/sites/bernardmarr/2018/05/28/starbucks-using-big-data-analytics-and-artificial-intelligence-to-boost-performance/#130c7d765cdc)) looking to find the next store into a [Starbucks Reserve Roastery](https://www.businessinsider.com/starbucks-reserve-roastery-compared-regular-starbucks-2018-12#also-on-the-first-floor-was-the-main-coffee-bar-five-hourglass-like-units-hold-the-freshly-roasted-coffee-beans-that-are-used-in-each-order-the-selection-rotates-seasonally-5).  These roasteries are much larger than a typical Starbucks store and have several additional features, including various food and wine options, along with upscale lounge areas.  You'll investigate the demographics of various counties in the state of California, to determine potentially suitable locations.\n",
    "\n",
    "<center>\n",
    "<img src=\"https://i.imgur.com/BIyE6kR.png\" width=\"450\"><br/><br/>\n",
    "</center>\n",
    "\n",
    "Before you get started, run the code cell below to set everything up."
   ]
  },
  {
   "cell_type": "code",
   "execution_count": 1,
   "id": "b44ba3d7",
   "metadata": {
    "execution": {
     "iopub.execute_input": "2022-03-14T19:29:24.314694Z",
     "iopub.status.busy": "2022-03-14T19:29:24.313500Z",
     "iopub.status.idle": "2022-03-14T19:29:26.504085Z",
     "shell.execute_reply": "2022-03-14T19:29:26.503394Z",
     "shell.execute_reply.started": "2022-03-14T14:32:47.379051Z"
    },
    "papermill": {
     "duration": 2.230907,
     "end_time": "2022-03-14T19:29:26.504276",
     "exception": false,
     "start_time": "2022-03-14T19:29:24.273369",
     "status": "completed"
    },
    "tags": []
   },
   "outputs": [
    {
     "name": "stderr",
     "output_type": "stream",
     "text": [
      "/opt/conda/lib/python3.7/site-packages/geopandas/_compat.py:115: UserWarning: The Shapely GEOS version (3.9.1-CAPI-1.14.2) is incompatible with the GEOS version PyGEOS was compiled with (3.10.1-CAPI-1.16.0). Conversions between both will be slow.\n",
      "  shapely_geos_version, geos_capi_version_string\n"
     ]
    }
   ],
   "source": [
    "import math\n",
    "import pandas as pd\n",
    "import geopandas as gpd\n",
    "#from geopy.geocoders import Nominatim            # What you'd normally run\n",
    "from learntools.geospatial.tools import Nominatim # Just for this exercise\n",
    "\n",
    "import folium \n",
    "from folium import Marker\n",
    "from folium.plugins import MarkerCluster\n",
    "\n",
    "from learntools.core import binder\n",
    "binder.bind(globals())\n",
    "from learntools.geospatial.ex4 import *"
   ]
  },
  {
   "cell_type": "markdown",
   "id": "26f18a9e",
   "metadata": {
    "papermill": {
     "duration": 0.037156,
     "end_time": "2022-03-14T19:29:26.579730",
     "exception": false,
     "start_time": "2022-03-14T19:29:26.542574",
     "status": "completed"
    },
    "tags": []
   },
   "source": [
    "You'll use the `embed_map()` function from the previous exercise to visualize your maps."
   ]
  },
  {
   "cell_type": "code",
   "execution_count": 2,
   "id": "b70547f0",
   "metadata": {
    "execution": {
     "iopub.execute_input": "2022-03-14T19:29:26.660055Z",
     "iopub.status.busy": "2022-03-14T19:29:26.659364Z",
     "iopub.status.idle": "2022-03-14T19:29:26.663006Z",
     "shell.execute_reply": "2022-03-14T19:29:26.663501Z",
     "shell.execute_reply.started": "2022-03-14T14:32:50.243333Z"
    },
    "papermill": {
     "duration": 0.044517,
     "end_time": "2022-03-14T19:29:26.663690",
     "exception": false,
     "start_time": "2022-03-14T19:29:26.619173",
     "status": "completed"
    },
    "tags": []
   },
   "outputs": [],
   "source": [
    "def embed_map(m, file_name):\n",
    "    from IPython.display import IFrame\n",
    "    m.save(file_name)\n",
    "    return IFrame(file_name, width='100%', height='500px')"
   ]
  },
  {
   "cell_type": "markdown",
   "id": "96b07177",
   "metadata": {
    "papermill": {
     "duration": 0.037451,
     "end_time": "2022-03-14T19:29:26.739676",
     "exception": false,
     "start_time": "2022-03-14T19:29:26.702225",
     "status": "completed"
    },
    "tags": []
   },
   "source": [
    "# Exercises\n",
    "\n",
    "### 1) Geocode the missing locations.\n",
    "\n",
    "Run the next code cell to create a DataFrame `starbucks` containing Starbucks locations in the state of California."
   ]
  },
  {
   "cell_type": "code",
   "execution_count": 3,
   "id": "33e0951d",
   "metadata": {
    "execution": {
     "iopub.execute_input": "2022-03-14T19:29:26.821409Z",
     "iopub.status.busy": "2022-03-14T19:29:26.820598Z",
     "iopub.status.idle": "2022-03-14T19:29:26.851616Z",
     "shell.execute_reply": "2022-03-14T19:29:26.852104Z",
     "shell.execute_reply.started": "2022-03-14T14:32:51.572412Z"
    },
    "papermill": {
     "duration": 0.07291,
     "end_time": "2022-03-14T19:29:26.852292",
     "exception": false,
     "start_time": "2022-03-14T19:29:26.779382",
     "status": "completed"
    },
    "tags": []
   },
   "outputs": [
    {
     "data": {
      "text/html": [
       "<div>\n",
       "<style scoped>\n",
       "    .dataframe tbody tr th:only-of-type {\n",
       "        vertical-align: middle;\n",
       "    }\n",
       "\n",
       "    .dataframe tbody tr th {\n",
       "        vertical-align: top;\n",
       "    }\n",
       "\n",
       "    .dataframe thead th {\n",
       "        text-align: right;\n",
       "    }\n",
       "</style>\n",
       "<table border=\"1\" class=\"dataframe\">\n",
       "  <thead>\n",
       "    <tr style=\"text-align: right;\">\n",
       "      <th></th>\n",
       "      <th>Store Number</th>\n",
       "      <th>Store Name</th>\n",
       "      <th>Address</th>\n",
       "      <th>City</th>\n",
       "      <th>Longitude</th>\n",
       "      <th>Latitude</th>\n",
       "    </tr>\n",
       "  </thead>\n",
       "  <tbody>\n",
       "    <tr>\n",
       "      <th>0</th>\n",
       "      <td>10429-100710</td>\n",
       "      <td>Palmdale &amp; Hwy 395</td>\n",
       "      <td>14136 US Hwy 395 Adelanto CA</td>\n",
       "      <td>Adelanto</td>\n",
       "      <td>-117.40</td>\n",
       "      <td>34.51</td>\n",
       "    </tr>\n",
       "    <tr>\n",
       "      <th>1</th>\n",
       "      <td>635-352</td>\n",
       "      <td>Kanan &amp; Thousand Oaks</td>\n",
       "      <td>5827 Kanan Road Agoura CA</td>\n",
       "      <td>Agoura</td>\n",
       "      <td>-118.76</td>\n",
       "      <td>34.16</td>\n",
       "    </tr>\n",
       "    <tr>\n",
       "      <th>2</th>\n",
       "      <td>74510-27669</td>\n",
       "      <td>Vons-Agoura Hills #2001</td>\n",
       "      <td>5671 Kanan Rd. Agoura Hills CA</td>\n",
       "      <td>Agoura Hills</td>\n",
       "      <td>-118.76</td>\n",
       "      <td>34.15</td>\n",
       "    </tr>\n",
       "    <tr>\n",
       "      <th>3</th>\n",
       "      <td>29839-255026</td>\n",
       "      <td>Target Anaheim T-0677</td>\n",
       "      <td>8148 E SANTA ANA CANYON ROAD AHAHEIM CA</td>\n",
       "      <td>AHAHEIM</td>\n",
       "      <td>-117.75</td>\n",
       "      <td>33.87</td>\n",
       "    </tr>\n",
       "    <tr>\n",
       "      <th>4</th>\n",
       "      <td>23463-230284</td>\n",
       "      <td>Safeway - Alameda 3281</td>\n",
       "      <td>2600 5th Street Alameda CA</td>\n",
       "      <td>Alameda</td>\n",
       "      <td>-122.28</td>\n",
       "      <td>37.79</td>\n",
       "    </tr>\n",
       "  </tbody>\n",
       "</table>\n",
       "</div>"
      ],
      "text/plain": [
       "   Store Number               Store Name  \\\n",
       "0  10429-100710       Palmdale & Hwy 395   \n",
       "1       635-352    Kanan & Thousand Oaks   \n",
       "2   74510-27669  Vons-Agoura Hills #2001   \n",
       "3  29839-255026    Target Anaheim T-0677   \n",
       "4  23463-230284   Safeway - Alameda 3281   \n",
       "\n",
       "                                   Address          City  Longitude  Latitude  \n",
       "0             14136 US Hwy 395 Adelanto CA      Adelanto    -117.40     34.51  \n",
       "1                5827 Kanan Road Agoura CA        Agoura    -118.76     34.16  \n",
       "2           5671 Kanan Rd. Agoura Hills CA  Agoura Hills    -118.76     34.15  \n",
       "3  8148 E SANTA ANA CANYON ROAD AHAHEIM CA       AHAHEIM    -117.75     33.87  \n",
       "4               2600 5th Street Alameda CA       Alameda    -122.28     37.79  "
      ]
     },
     "execution_count": 3,
     "metadata": {},
     "output_type": "execute_result"
    }
   ],
   "source": [
    "# Load and preview Starbucks locations in California\n",
    "starbucks = pd.read_csv(\"../input/geospatial-learn-course-data/starbucks_locations.csv\")\n",
    "starbucks.head()"
   ]
  },
  {
   "cell_type": "code",
   "execution_count": 4,
   "id": "543ef3a7",
   "metadata": {
    "execution": {
     "iopub.execute_input": "2022-03-14T19:29:26.931990Z",
     "iopub.status.busy": "2022-03-14T19:29:26.931285Z",
     "iopub.status.idle": "2022-03-14T19:29:26.935939Z",
     "shell.execute_reply": "2022-03-14T19:29:26.936402Z",
     "shell.execute_reply.started": "2022-03-14T14:32:52.411062Z"
    },
    "papermill": {
     "duration": 0.04601,
     "end_time": "2022-03-14T19:29:26.936569",
     "exception": false,
     "start_time": "2022-03-14T19:29:26.890559",
     "status": "completed"
    },
    "tags": []
   },
   "outputs": [
    {
     "data": {
      "text/plain": [
       "(2821, 6)"
      ]
     },
     "execution_count": 4,
     "metadata": {},
     "output_type": "execute_result"
    }
   ],
   "source": [
    "starbucks.shape"
   ]
  },
  {
   "cell_type": "code",
   "execution_count": 5,
   "id": "71309b01",
   "metadata": {
    "execution": {
     "iopub.execute_input": "2022-03-14T19:29:27.018913Z",
     "iopub.status.busy": "2022-03-14T19:29:27.018280Z",
     "iopub.status.idle": "2022-03-14T19:29:27.034182Z",
     "shell.execute_reply": "2022-03-14T19:29:27.034736Z",
     "shell.execute_reply.started": "2022-03-14T14:32:53.086482Z"
    },
    "papermill": {
     "duration": 0.058784,
     "end_time": "2022-03-14T19:29:27.034908",
     "exception": false,
     "start_time": "2022-03-14T19:29:26.976124",
     "status": "completed"
    },
    "tags": []
   },
   "outputs": [
    {
     "name": "stdout",
     "output_type": "stream",
     "text": [
      "<class 'pandas.core.frame.DataFrame'>\n",
      "RangeIndex: 2821 entries, 0 to 2820\n",
      "Data columns (total 6 columns):\n",
      " #   Column        Non-Null Count  Dtype  \n",
      "---  ------        --------------  -----  \n",
      " 0   Store Number  2821 non-null   object \n",
      " 1   Store Name    2821 non-null   object \n",
      " 2   Address       2821 non-null   object \n",
      " 3   City          2821 non-null   object \n",
      " 4   Longitude     2816 non-null   float64\n",
      " 5   Latitude      2816 non-null   float64\n",
      "dtypes: float64(2), object(4)\n",
      "memory usage: 132.4+ KB\n"
     ]
    }
   ],
   "source": [
    "starbucks.info()"
   ]
  },
  {
   "cell_type": "code",
   "execution_count": 6,
   "id": "6040f529",
   "metadata": {
    "execution": {
     "iopub.execute_input": "2022-03-14T19:29:27.116551Z",
     "iopub.status.busy": "2022-03-14T19:29:27.115867Z",
     "iopub.status.idle": "2022-03-14T19:29:27.127284Z",
     "shell.execute_reply": "2022-03-14T19:29:27.127736Z",
     "shell.execute_reply.started": "2022-03-14T14:32:53.593095Z"
    },
    "papermill": {
     "duration": 0.053795,
     "end_time": "2022-03-14T19:29:27.127911",
     "exception": false,
     "start_time": "2022-03-14T19:29:27.074116",
     "status": "completed"
    },
    "tags": []
   },
   "outputs": [
    {
     "data": {
      "text/plain": [
       "Store Number    2821\n",
       "Store Name      2821\n",
       "Address         2806\n",
       "City             530\n",
       "Longitude        526\n",
       "Latitude         489\n",
       "dtype: int64"
      ]
     },
     "execution_count": 6,
     "metadata": {},
     "output_type": "execute_result"
    }
   ],
   "source": [
    "starbucks.nunique()"
   ]
  },
  {
   "cell_type": "markdown",
   "id": "00f220d9",
   "metadata": {
    "papermill": {
     "duration": 0.039411,
     "end_time": "2022-03-14T19:29:27.207003",
     "exception": false,
     "start_time": "2022-03-14T19:29:27.167592",
     "status": "completed"
    },
    "tags": []
   },
   "source": [
    "Most of the stores have known (latitude, longitude) locations.  But, all of the locations in the city of Berkeley are missing."
   ]
  },
  {
   "cell_type": "code",
   "execution_count": 7,
   "id": "0ba5c29a",
   "metadata": {
    "execution": {
     "iopub.execute_input": "2022-03-14T19:29:27.294186Z",
     "iopub.status.busy": "2022-03-14T19:29:27.288304Z",
     "iopub.status.idle": "2022-03-14T19:29:27.297853Z",
     "shell.execute_reply": "2022-03-14T19:29:27.297222Z",
     "shell.execute_reply.started": "2022-03-14T14:32:55.272709Z"
    },
    "papermill": {
     "duration": 0.051555,
     "end_time": "2022-03-14T19:29:27.297990",
     "exception": false,
     "start_time": "2022-03-14T19:29:27.246435",
     "status": "completed"
    },
    "tags": []
   },
   "outputs": [
    {
     "data": {
      "text/plain": [
       "Store Number    0\n",
       "Store Name      0\n",
       "Address         0\n",
       "City            0\n",
       "Longitude       5\n",
       "Latitude        5\n",
       "dtype: int64"
      ]
     },
     "execution_count": 7,
     "metadata": {},
     "output_type": "execute_result"
    }
   ],
   "source": [
    "starbucks.isnull().sum()"
   ]
  },
  {
   "cell_type": "code",
   "execution_count": 8,
   "id": "0450074f",
   "metadata": {
    "execution": {
     "iopub.execute_input": "2022-03-14T19:29:27.391952Z",
     "iopub.status.busy": "2022-03-14T19:29:27.391285Z",
     "iopub.status.idle": "2022-03-14T19:29:27.393953Z",
     "shell.execute_reply": "2022-03-14T19:29:27.394457Z",
     "shell.execute_reply.started": "2022-03-14T14:32:56.166214Z"
    },
    "papermill": {
     "duration": 0.056778,
     "end_time": "2022-03-14T19:29:27.394638",
     "exception": false,
     "start_time": "2022-03-14T19:29:27.337860",
     "status": "completed"
    },
    "tags": []
   },
   "outputs": [
    {
     "data": {
      "text/html": [
       "<div>\n",
       "<style scoped>\n",
       "    .dataframe tbody tr th:only-of-type {\n",
       "        vertical-align: middle;\n",
       "    }\n",
       "\n",
       "    .dataframe tbody tr th {\n",
       "        vertical-align: top;\n",
       "    }\n",
       "\n",
       "    .dataframe thead th {\n",
       "        text-align: right;\n",
       "    }\n",
       "</style>\n",
       "<table border=\"1\" class=\"dataframe\">\n",
       "  <thead>\n",
       "    <tr style=\"text-align: right;\">\n",
       "      <th></th>\n",
       "      <th>Store Number</th>\n",
       "      <th>Store Name</th>\n",
       "      <th>Address</th>\n",
       "      <th>City</th>\n",
       "      <th>Longitude</th>\n",
       "      <th>Latitude</th>\n",
       "    </tr>\n",
       "  </thead>\n",
       "  <tbody>\n",
       "    <tr>\n",
       "      <th>153</th>\n",
       "      <td>5406-945</td>\n",
       "      <td>2224 Shattuck - Berkeley</td>\n",
       "      <td>2224 Shattuck Avenue Berkeley CA</td>\n",
       "      <td>Berkeley</td>\n",
       "      <td>NaN</td>\n",
       "      <td>NaN</td>\n",
       "    </tr>\n",
       "    <tr>\n",
       "      <th>154</th>\n",
       "      <td>570-512</td>\n",
       "      <td>Solano Ave</td>\n",
       "      <td>1799 Solano Avenue Berkeley CA</td>\n",
       "      <td>Berkeley</td>\n",
       "      <td>NaN</td>\n",
       "      <td>NaN</td>\n",
       "    </tr>\n",
       "    <tr>\n",
       "      <th>155</th>\n",
       "      <td>17877-164526</td>\n",
       "      <td>Safeway - Berkeley #691</td>\n",
       "      <td>1444 Shattuck Place Berkeley CA</td>\n",
       "      <td>Berkeley</td>\n",
       "      <td>NaN</td>\n",
       "      <td>NaN</td>\n",
       "    </tr>\n",
       "    <tr>\n",
       "      <th>156</th>\n",
       "      <td>19864-202264</td>\n",
       "      <td>Telegraph &amp; Ashby</td>\n",
       "      <td>3001 Telegraph Avenue Berkeley CA</td>\n",
       "      <td>Berkeley</td>\n",
       "      <td>NaN</td>\n",
       "      <td>NaN</td>\n",
       "    </tr>\n",
       "    <tr>\n",
       "      <th>157</th>\n",
       "      <td>9217-9253</td>\n",
       "      <td>2128 Oxford St.</td>\n",
       "      <td>2128 Oxford Street Berkeley CA</td>\n",
       "      <td>Berkeley</td>\n",
       "      <td>NaN</td>\n",
       "      <td>NaN</td>\n",
       "    </tr>\n",
       "  </tbody>\n",
       "</table>\n",
       "</div>"
      ],
      "text/plain": [
       "     Store Number                Store Name  \\\n",
       "153      5406-945  2224 Shattuck - Berkeley   \n",
       "154       570-512                Solano Ave   \n",
       "155  17877-164526   Safeway - Berkeley #691   \n",
       "156  19864-202264         Telegraph & Ashby   \n",
       "157     9217-9253           2128 Oxford St.   \n",
       "\n",
       "                               Address      City  Longitude  Latitude  \n",
       "153   2224 Shattuck Avenue Berkeley CA  Berkeley        NaN       NaN  \n",
       "154     1799 Solano Avenue Berkeley CA  Berkeley        NaN       NaN  \n",
       "155    1444 Shattuck Place Berkeley CA  Berkeley        NaN       NaN  \n",
       "156  3001 Telegraph Avenue Berkeley CA  Berkeley        NaN       NaN  \n",
       "157     2128 Oxford Street Berkeley CA  Berkeley        NaN       NaN  "
      ]
     },
     "execution_count": 8,
     "metadata": {},
     "output_type": "execute_result"
    }
   ],
   "source": [
    "starbucks.loc[starbucks.Longitude.isnull()==True]"
   ]
  },
  {
   "cell_type": "code",
   "execution_count": 9,
   "id": "a1b5e82b",
   "metadata": {
    "execution": {
     "iopub.execute_input": "2022-03-14T19:29:27.479384Z",
     "iopub.status.busy": "2022-03-14T19:29:27.478677Z",
     "iopub.status.idle": "2022-03-14T19:29:27.491619Z",
     "shell.execute_reply": "2022-03-14T19:29:27.492223Z",
     "shell.execute_reply.started": "2022-03-14T14:32:56.93135Z"
    },
    "papermill": {
     "duration": 0.057234,
     "end_time": "2022-03-14T19:29:27.492409",
     "exception": false,
     "start_time": "2022-03-14T19:29:27.435175",
     "status": "completed"
    },
    "tags": []
   },
   "outputs": [
    {
     "data": {
      "text/html": [
       "<div>\n",
       "<style scoped>\n",
       "    .dataframe tbody tr th:only-of-type {\n",
       "        vertical-align: middle;\n",
       "    }\n",
       "\n",
       "    .dataframe tbody tr th {\n",
       "        vertical-align: top;\n",
       "    }\n",
       "\n",
       "    .dataframe thead th {\n",
       "        text-align: right;\n",
       "    }\n",
       "</style>\n",
       "<table border=\"1\" class=\"dataframe\">\n",
       "  <thead>\n",
       "    <tr style=\"text-align: right;\">\n",
       "      <th></th>\n",
       "      <th>Store Number</th>\n",
       "      <th>Store Name</th>\n",
       "      <th>Address</th>\n",
       "      <th>City</th>\n",
       "      <th>Longitude</th>\n",
       "      <th>Latitude</th>\n",
       "    </tr>\n",
       "  </thead>\n",
       "  <tbody>\n",
       "    <tr>\n",
       "      <th>153</th>\n",
       "      <td>5406-945</td>\n",
       "      <td>2224 Shattuck - Berkeley</td>\n",
       "      <td>2224 Shattuck Avenue Berkeley CA</td>\n",
       "      <td>Berkeley</td>\n",
       "      <td>NaN</td>\n",
       "      <td>NaN</td>\n",
       "    </tr>\n",
       "    <tr>\n",
       "      <th>154</th>\n",
       "      <td>570-512</td>\n",
       "      <td>Solano Ave</td>\n",
       "      <td>1799 Solano Avenue Berkeley CA</td>\n",
       "      <td>Berkeley</td>\n",
       "      <td>NaN</td>\n",
       "      <td>NaN</td>\n",
       "    </tr>\n",
       "    <tr>\n",
       "      <th>155</th>\n",
       "      <td>17877-164526</td>\n",
       "      <td>Safeway - Berkeley #691</td>\n",
       "      <td>1444 Shattuck Place Berkeley CA</td>\n",
       "      <td>Berkeley</td>\n",
       "      <td>NaN</td>\n",
       "      <td>NaN</td>\n",
       "    </tr>\n",
       "    <tr>\n",
       "      <th>156</th>\n",
       "      <td>19864-202264</td>\n",
       "      <td>Telegraph &amp; Ashby</td>\n",
       "      <td>3001 Telegraph Avenue Berkeley CA</td>\n",
       "      <td>Berkeley</td>\n",
       "      <td>NaN</td>\n",
       "      <td>NaN</td>\n",
       "    </tr>\n",
       "    <tr>\n",
       "      <th>157</th>\n",
       "      <td>9217-9253</td>\n",
       "      <td>2128 Oxford St.</td>\n",
       "      <td>2128 Oxford Street Berkeley CA</td>\n",
       "      <td>Berkeley</td>\n",
       "      <td>NaN</td>\n",
       "      <td>NaN</td>\n",
       "    </tr>\n",
       "  </tbody>\n",
       "</table>\n",
       "</div>"
      ],
      "text/plain": [
       "     Store Number                Store Name  \\\n",
       "153      5406-945  2224 Shattuck - Berkeley   \n",
       "154       570-512                Solano Ave   \n",
       "155  17877-164526   Safeway - Berkeley #691   \n",
       "156  19864-202264         Telegraph & Ashby   \n",
       "157     9217-9253           2128 Oxford St.   \n",
       "\n",
       "                               Address      City  Longitude  Latitude  \n",
       "153   2224 Shattuck Avenue Berkeley CA  Berkeley        NaN       NaN  \n",
       "154     1799 Solano Avenue Berkeley CA  Berkeley        NaN       NaN  \n",
       "155    1444 Shattuck Place Berkeley CA  Berkeley        NaN       NaN  \n",
       "156  3001 Telegraph Avenue Berkeley CA  Berkeley        NaN       NaN  \n",
       "157     2128 Oxford Street Berkeley CA  Berkeley        NaN       NaN  "
      ]
     },
     "execution_count": 9,
     "metadata": {},
     "output_type": "execute_result"
    }
   ],
   "source": [
    "starbucks.loc[starbucks.Latitude.isnull()==True]"
   ]
  },
  {
   "cell_type": "code",
   "execution_count": 10,
   "id": "8b1ad1d4",
   "metadata": {
    "execution": {
     "iopub.execute_input": "2022-03-14T19:29:27.577662Z",
     "iopub.status.busy": "2022-03-14T19:29:27.576711Z",
     "iopub.status.idle": "2022-03-14T19:29:27.581566Z",
     "shell.execute_reply": "2022-03-14T19:29:27.582144Z",
     "shell.execute_reply.started": "2022-03-14T14:32:57.903165Z"
    },
    "papermill": {
     "duration": 0.049171,
     "end_time": "2022-03-14T19:29:27.582327",
     "exception": false,
     "start_time": "2022-03-14T19:29:27.533156",
     "status": "completed"
    },
    "tags": []
   },
   "outputs": [],
   "source": [
    "# View rows with missing locations\n",
    "rows_with_missing = starbucks[starbucks[\"City\"]==\"Berkeley\"]"
   ]
  },
  {
   "cell_type": "code",
   "execution_count": 11,
   "id": "46d08403",
   "metadata": {
    "execution": {
     "iopub.execute_input": "2022-03-14T19:29:27.667185Z",
     "iopub.status.busy": "2022-03-14T19:29:27.666276Z",
     "iopub.status.idle": "2022-03-14T19:29:27.953149Z",
     "shell.execute_reply": "2022-03-14T19:29:27.953652Z",
     "shell.execute_reply.started": "2022-03-14T14:33:00.355975Z"
    },
    "papermill": {
     "duration": 0.33095,
     "end_time": "2022-03-14T19:29:27.953820",
     "exception": false,
     "start_time": "2022-03-14T19:29:27.622870",
     "status": "completed"
    },
    "tags": []
   },
   "outputs": [
    {
     "data": {
      "application/javascript": [
       "parent.postMessage({\"jupyterEvent\": \"custom.exercise_interaction\", \"data\": {\"outcomeType\": 1, \"valueTowardsCompletion\": 0.2, \"interactionType\": 1, \"questionType\": 2, \"questionId\": \"1_Q1\", \"learnToolsVersion\": \"0.3.4\", \"failureMessage\": \"\", \"exceptionClass\": \"\", \"trace\": \"\"}}, \"*\")"
      ],
      "text/plain": [
       "<IPython.core.display.Javascript object>"
      ]
     },
     "metadata": {},
     "output_type": "display_data"
    },
    {
     "data": {
      "text/markdown": [
       "<span style=\"color:#33cc33\">Correct</span>"
      ],
      "text/plain": [
       "Correct"
      ]
     },
     "metadata": {},
     "output_type": "display_data"
    }
   ],
   "source": [
    "# Create the geocoder\n",
    "geolocator = Nominatim(user_agent=\"kaggle_learn\")\n",
    "\n",
    "# Your code here\n",
    "def my_geocoder(row):\n",
    "    point = geolocator.geocode(row).point\n",
    "    return pd.Series({'Latitude': point.latitude, 'Longitude': point.longitude})\n",
    "\n",
    "berkeley_locations = rows_with_missing.apply(lambda x: my_geocoder(x['Address']), axis=1)\n",
    "starbucks.update(berkeley_locations)\n",
    "\n",
    "# Check your answer\n",
    "q_1.check()"
   ]
  },
  {
   "cell_type": "code",
   "execution_count": 12,
   "id": "7f37063f",
   "metadata": {
    "execution": {
     "iopub.execute_input": "2022-03-14T19:29:28.044987Z",
     "iopub.status.busy": "2022-03-14T19:29:28.043963Z",
     "iopub.status.idle": "2022-03-14T19:29:28.055489Z",
     "shell.execute_reply": "2022-03-14T19:29:28.056043Z",
     "shell.execute_reply.started": "2022-03-14T14:33:01.232636Z"
    },
    "papermill": {
     "duration": 0.060039,
     "end_time": "2022-03-14T19:29:28.056214",
     "exception": false,
     "start_time": "2022-03-14T19:29:27.996175",
     "status": "completed"
    },
    "tags": []
   },
   "outputs": [
    {
     "data": {
      "text/html": [
       "<div>\n",
       "<style scoped>\n",
       "    .dataframe tbody tr th:only-of-type {\n",
       "        vertical-align: middle;\n",
       "    }\n",
       "\n",
       "    .dataframe tbody tr th {\n",
       "        vertical-align: top;\n",
       "    }\n",
       "\n",
       "    .dataframe thead th {\n",
       "        text-align: right;\n",
       "    }\n",
       "</style>\n",
       "<table border=\"1\" class=\"dataframe\">\n",
       "  <thead>\n",
       "    <tr style=\"text-align: right;\">\n",
       "      <th></th>\n",
       "      <th>Store Number</th>\n",
       "      <th>Store Name</th>\n",
       "      <th>Address</th>\n",
       "      <th>City</th>\n",
       "      <th>Longitude</th>\n",
       "      <th>Latitude</th>\n",
       "    </tr>\n",
       "  </thead>\n",
       "  <tbody>\n",
       "    <tr>\n",
       "      <th>153</th>\n",
       "      <td>5406-945</td>\n",
       "      <td>2224 Shattuck - Berkeley</td>\n",
       "      <td>2224 Shattuck Avenue Berkeley CA</td>\n",
       "      <td>Berkeley</td>\n",
       "      <td>-122.268230</td>\n",
       "      <td>37.868839</td>\n",
       "    </tr>\n",
       "    <tr>\n",
       "      <th>154</th>\n",
       "      <td>570-512</td>\n",
       "      <td>Solano Ave</td>\n",
       "      <td>1799 Solano Avenue Berkeley CA</td>\n",
       "      <td>Berkeley</td>\n",
       "      <td>-122.280050</td>\n",
       "      <td>37.891383</td>\n",
       "    </tr>\n",
       "    <tr>\n",
       "      <th>155</th>\n",
       "      <td>17877-164526</td>\n",
       "      <td>Safeway - Berkeley #691</td>\n",
       "      <td>1444 Shattuck Place Berkeley CA</td>\n",
       "      <td>Berkeley</td>\n",
       "      <td>-122.269679</td>\n",
       "      <td>37.880907</td>\n",
       "    </tr>\n",
       "    <tr>\n",
       "      <th>156</th>\n",
       "      <td>19864-202264</td>\n",
       "      <td>Telegraph &amp; Ashby</td>\n",
       "      <td>3001 Telegraph Avenue Berkeley CA</td>\n",
       "      <td>Berkeley</td>\n",
       "      <td>-122.259370</td>\n",
       "      <td>37.855947</td>\n",
       "    </tr>\n",
       "    <tr>\n",
       "      <th>157</th>\n",
       "      <td>9217-9253</td>\n",
       "      <td>2128 Oxford St.</td>\n",
       "      <td>2128 Oxford Street Berkeley CA</td>\n",
       "      <td>Berkeley</td>\n",
       "      <td>-122.266079</td>\n",
       "      <td>37.870410</td>\n",
       "    </tr>\n",
       "  </tbody>\n",
       "</table>\n",
       "</div>"
      ],
      "text/plain": [
       "     Store Number                Store Name  \\\n",
       "153      5406-945  2224 Shattuck - Berkeley   \n",
       "154       570-512                Solano Ave   \n",
       "155  17877-164526   Safeway - Berkeley #691   \n",
       "156  19864-202264         Telegraph & Ashby   \n",
       "157     9217-9253           2128 Oxford St.   \n",
       "\n",
       "                               Address      City   Longitude   Latitude  \n",
       "153   2224 Shattuck Avenue Berkeley CA  Berkeley -122.268230  37.868839  \n",
       "154     1799 Solano Avenue Berkeley CA  Berkeley -122.280050  37.891383  \n",
       "155    1444 Shattuck Place Berkeley CA  Berkeley -122.269679  37.880907  \n",
       "156  3001 Telegraph Avenue Berkeley CA  Berkeley -122.259370  37.855947  \n",
       "157     2128 Oxford Street Berkeley CA  Berkeley -122.266079  37.870410  "
      ]
     },
     "execution_count": 12,
     "metadata": {},
     "output_type": "execute_result"
    }
   ],
   "source": [
    "starbucks[starbucks[\"City\"]==\"Berkeley\"]"
   ]
  },
  {
   "cell_type": "code",
   "execution_count": 13,
   "id": "b1906edf",
   "metadata": {
    "execution": {
     "iopub.execute_input": "2022-03-14T19:29:28.146283Z",
     "iopub.status.busy": "2022-03-14T19:29:28.145344Z",
     "iopub.status.idle": "2022-03-14T19:29:28.148457Z",
     "shell.execute_reply": "2022-03-14T19:29:28.148985Z",
     "shell.execute_reply.started": "2022-03-14T14:33:02.503082Z"
    },
    "papermill": {
     "duration": 0.049116,
     "end_time": "2022-03-14T19:29:28.149148",
     "exception": false,
     "start_time": "2022-03-14T19:29:28.100032",
     "status": "completed"
    },
    "tags": []
   },
   "outputs": [],
   "source": [
    "# Line below will give you solution code\n",
    "#q_1.solution()"
   ]
  },
  {
   "cell_type": "markdown",
   "id": "a285c525",
   "metadata": {
    "papermill": {
     "duration": 0.042024,
     "end_time": "2022-03-14T19:29:28.233740",
     "exception": false,
     "start_time": "2022-03-14T19:29:28.191716",
     "status": "completed"
    },
    "tags": []
   },
   "source": [
    "### 2) View Berkeley locations.\n",
    "\n",
    "Let's take a look at the locations you just found.  Visualize the (latitude, longitude) locations in Berkeley in the OpenStreetMap style. "
   ]
  },
  {
   "cell_type": "code",
   "execution_count": 14,
   "id": "a55c354a",
   "metadata": {
    "execution": {
     "iopub.execute_input": "2022-03-14T19:29:28.321964Z",
     "iopub.status.busy": "2022-03-14T19:29:28.321037Z",
     "iopub.status.idle": "2022-03-14T19:29:28.349728Z",
     "shell.execute_reply": "2022-03-14T19:29:28.350337Z",
     "shell.execute_reply.started": "2022-03-14T14:33:04.087212Z"
    },
    "papermill": {
     "duration": 0.074546,
     "end_time": "2022-03-14T19:29:28.350506",
     "exception": false,
     "start_time": "2022-03-14T19:29:28.275960",
     "status": "completed"
    },
    "tags": []
   },
   "outputs": [
    {
     "data": {
      "text/html": [
       "\n",
       "        <iframe\n",
       "            width=\"100%\"\n",
       "            height=\"500px\"\n",
       "            src=\"q_2.html\"\n",
       "            frameborder=\"0\"\n",
       "            allowfullscreen\n",
       "            \n",
       "        ></iframe>\n",
       "        "
      ],
      "text/plain": [
       "<IPython.lib.display.IFrame at 0x7fa9b7c5b990>"
      ]
     },
     "execution_count": 14,
     "metadata": {},
     "output_type": "execute_result"
    }
   ],
   "source": [
    "# Create a base map\n",
    "m_2 = folium.Map(location=[37.88,-122.26], zoom_start=13)\n",
    "\n",
    "# Your code here: Add a marker for each Berkeley location\n",
    "for idx, row in starbucks[starbucks[\"City\"]=='Berkeley'].iterrows():\n",
    "    Marker([row['Latitude'], row['Longitude']]).add_to(m_2)\n",
    "\n",
    "\n",
    "# Show the map\n",
    "embed_map(m_2, 'q_2.html')"
   ]
  },
  {
   "cell_type": "markdown",
   "id": "b75176b1",
   "metadata": {
    "papermill": {
     "duration": 0.042715,
     "end_time": "2022-03-14T19:29:28.436162",
     "exception": false,
     "start_time": "2022-03-14T19:29:28.393447",
     "status": "completed"
    },
    "tags": []
   },
   "source": [
    "Considering only the five locations in Berkeley, how many of the (latitude, longitude) locations seem potentially correct (are located in the correct city)?"
   ]
  },
  {
   "cell_type": "code",
   "execution_count": 15,
   "id": "967e9573",
   "metadata": {
    "execution": {
     "iopub.execute_input": "2022-03-14T19:29:28.528113Z",
     "iopub.status.busy": "2022-03-14T19:29:28.527475Z",
     "iopub.status.idle": "2022-03-14T19:29:28.532084Z",
     "shell.execute_reply": "2022-03-14T19:29:28.532657Z",
     "shell.execute_reply.started": "2022-03-14T14:33:07.613243Z"
    },
    "papermill": {
     "duration": 0.053523,
     "end_time": "2022-03-14T19:29:28.532837",
     "exception": false,
     "start_time": "2022-03-14T19:29:28.479314",
     "status": "completed"
    },
    "tags": []
   },
   "outputs": [
    {
     "data": {
      "application/javascript": [
       "parent.postMessage({\"jupyterEvent\": \"custom.exercise_interaction\", \"data\": {\"interactionType\": 3, \"questionType\": 4, \"questionId\": \"2.2_Q2T\", \"learnToolsVersion\": \"0.3.4\", \"valueTowardsCompletion\": 0.0, \"failureMessage\": \"\", \"exceptionClass\": \"\", \"trace\": \"\", \"outcomeType\": 4}}, \"*\")"
      ],
      "text/plain": [
       "<IPython.core.display.Javascript object>"
      ]
     },
     "metadata": {},
     "output_type": "display_data"
    },
    {
     "data": {
      "text/markdown": [
       "<span style=\"color:#33cc99\">Solution:</span> All five locations appear to be correct!"
      ],
      "text/plain": [
       "Solution: All five locations appear to be correct!"
      ]
     },
     "metadata": {},
     "output_type": "display_data"
    }
   ],
   "source": [
    "# View the solution (Run this code cell to receive credit!)\n",
    "q_2.b.solution()"
   ]
  },
  {
   "cell_type": "markdown",
   "id": "e7b7c54b",
   "metadata": {
    "papermill": {
     "duration": 0.044629,
     "end_time": "2022-03-14T19:29:28.622217",
     "exception": false,
     "start_time": "2022-03-14T19:29:28.577588",
     "status": "completed"
    },
    "tags": []
   },
   "source": [
    "### 3) Consolidate your data.\n",
    "\n",
    "Run the code below to load a GeoDataFrame `CA_counties` containing the name, area (in square kilometers), and a unique id (in the \"GEOID\" column) for each county in the state of California.  The \"geometry\" column contains a polygon with county boundaries."
   ]
  },
  {
   "cell_type": "code",
   "execution_count": 16,
   "id": "f5edf381",
   "metadata": {
    "execution": {
     "iopub.execute_input": "2022-03-14T19:29:28.753222Z",
     "iopub.status.busy": "2022-03-14T19:29:28.752549Z",
     "iopub.status.idle": "2022-03-14T19:29:29.039845Z",
     "shell.execute_reply": "2022-03-14T19:29:29.039309Z",
     "shell.execute_reply.started": "2022-03-14T14:33:10.259658Z"
    },
    "papermill": {
     "duration": 0.372989,
     "end_time": "2022-03-14T19:29:29.039986",
     "exception": false,
     "start_time": "2022-03-14T19:29:28.666997",
     "status": "completed"
    },
    "tags": []
   },
   "outputs": [
    {
     "data": {
      "text/html": [
       "<div>\n",
       "<style scoped>\n",
       "    .dataframe tbody tr th:only-of-type {\n",
       "        vertical-align: middle;\n",
       "    }\n",
       "\n",
       "    .dataframe tbody tr th {\n",
       "        vertical-align: top;\n",
       "    }\n",
       "\n",
       "    .dataframe thead th {\n",
       "        text-align: right;\n",
       "    }\n",
       "</style>\n",
       "<table border=\"1\" class=\"dataframe\">\n",
       "  <thead>\n",
       "    <tr style=\"text-align: right;\">\n",
       "      <th></th>\n",
       "      <th>GEOID</th>\n",
       "      <th>name</th>\n",
       "      <th>area_sqkm</th>\n",
       "      <th>geometry</th>\n",
       "    </tr>\n",
       "  </thead>\n",
       "  <tbody>\n",
       "    <tr>\n",
       "      <th>0</th>\n",
       "      <td>6091</td>\n",
       "      <td>Sierra County</td>\n",
       "      <td>2491.995494</td>\n",
       "      <td>POLYGON ((-120.65560 39.69357, -120.65554 39.6...</td>\n",
       "    </tr>\n",
       "    <tr>\n",
       "      <th>1</th>\n",
       "      <td>6067</td>\n",
       "      <td>Sacramento County</td>\n",
       "      <td>2575.258262</td>\n",
       "      <td>POLYGON ((-121.18858 38.71431, -121.18732 38.7...</td>\n",
       "    </tr>\n",
       "    <tr>\n",
       "      <th>2</th>\n",
       "      <td>6083</td>\n",
       "      <td>Santa Barbara County</td>\n",
       "      <td>9813.817958</td>\n",
       "      <td>MULTIPOLYGON (((-120.58191 34.09856, -120.5822...</td>\n",
       "    </tr>\n",
       "    <tr>\n",
       "      <th>3</th>\n",
       "      <td>6009</td>\n",
       "      <td>Calaveras County</td>\n",
       "      <td>2685.626726</td>\n",
       "      <td>POLYGON ((-120.63095 38.34111, -120.63058 38.3...</td>\n",
       "    </tr>\n",
       "    <tr>\n",
       "      <th>4</th>\n",
       "      <td>6111</td>\n",
       "      <td>Ventura County</td>\n",
       "      <td>5719.321379</td>\n",
       "      <td>MULTIPOLYGON (((-119.63631 33.27304, -119.6360...</td>\n",
       "    </tr>\n",
       "  </tbody>\n",
       "</table>\n",
       "</div>"
      ],
      "text/plain": [
       "   GEOID                  name    area_sqkm  \\\n",
       "0   6091         Sierra County  2491.995494   \n",
       "1   6067     Sacramento County  2575.258262   \n",
       "2   6083  Santa Barbara County  9813.817958   \n",
       "3   6009      Calaveras County  2685.626726   \n",
       "4   6111        Ventura County  5719.321379   \n",
       "\n",
       "                                            geometry  \n",
       "0  POLYGON ((-120.65560 39.69357, -120.65554 39.6...  \n",
       "1  POLYGON ((-121.18858 38.71431, -121.18732 38.7...  \n",
       "2  MULTIPOLYGON (((-120.58191 34.09856, -120.5822...  \n",
       "3  POLYGON ((-120.63095 38.34111, -120.63058 38.3...  \n",
       "4  MULTIPOLYGON (((-119.63631 33.27304, -119.6360...  "
      ]
     },
     "execution_count": 16,
     "metadata": {},
     "output_type": "execute_result"
    }
   ],
   "source": [
    "CA_counties = gpd.read_file(\"../input/geospatial-learn-course-data/CA_county_boundaries/CA_county_boundaries/CA_county_boundaries.shp\")\n",
    "CA_counties.head()"
   ]
  },
  {
   "cell_type": "markdown",
   "id": "22c5240a",
   "metadata": {
    "papermill": {
     "duration": 0.04476,
     "end_time": "2022-03-14T19:29:29.130987",
     "exception": false,
     "start_time": "2022-03-14T19:29:29.086227",
     "status": "completed"
    },
    "tags": []
   },
   "source": [
    "Next, we create three DataFrames:\n",
    "- `CA_pop` contains an estimate of the population of each county.\n",
    "- `CA_high_earners` contains the number of households with an income of at least $150,000 per year.\n",
    "- `CA_median_age` contains the median age for each county."
   ]
  },
  {
   "cell_type": "code",
   "execution_count": 17,
   "id": "1d4aba32",
   "metadata": {
    "execution": {
     "iopub.execute_input": "2022-03-14T19:29:29.227111Z",
     "iopub.status.busy": "2022-03-14T19:29:29.226376Z",
     "iopub.status.idle": "2022-03-14T19:29:29.238111Z",
     "shell.execute_reply": "2022-03-14T19:29:29.238743Z",
     "shell.execute_reply.started": "2022-03-14T14:33:12.226868Z"
    },
    "papermill": {
     "duration": 0.063072,
     "end_time": "2022-03-14T19:29:29.238926",
     "exception": false,
     "start_time": "2022-03-14T19:29:29.175854",
     "status": "completed"
    },
    "tags": []
   },
   "outputs": [],
   "source": [
    "CA_pop = pd.read_csv(\"../input/geospatial-learn-course-data/CA_county_population.csv\", index_col=\"GEOID\")\n",
    "CA_high_earners = pd.read_csv(\"../input/geospatial-learn-course-data/CA_county_high_earners.csv\", index_col=\"GEOID\")\n",
    "CA_median_age = pd.read_csv(\"../input/geospatial-learn-course-data/CA_county_median_age.csv\", index_col=\"GEOID\")"
   ]
  },
  {
   "cell_type": "code",
   "execution_count": 18,
   "id": "d4f37e3a",
   "metadata": {
    "execution": {
     "iopub.execute_input": "2022-03-14T19:29:29.337910Z",
     "iopub.status.busy": "2022-03-14T19:29:29.337159Z",
     "iopub.status.idle": "2022-03-14T19:29:29.341750Z",
     "shell.execute_reply": "2022-03-14T19:29:29.341099Z",
     "shell.execute_reply.started": "2022-03-14T14:33:13.195664Z"
    },
    "papermill": {
     "duration": 0.056473,
     "end_time": "2022-03-14T19:29:29.341896",
     "exception": false,
     "start_time": "2022-03-14T19:29:29.285423",
     "status": "completed"
    },
    "tags": []
   },
   "outputs": [
    {
     "name": "stdout",
     "output_type": "stream",
     "text": [
      "58\n",
      "58\n",
      "58\n",
      "58\n"
     ]
    }
   ],
   "source": [
    "print(len(CA_pop))\n",
    "print(len(CA_high_earners))\n",
    "print(len(CA_median_age))\n",
    "print(len(CA_counties))"
   ]
  },
  {
   "cell_type": "code",
   "execution_count": 19,
   "id": "b3844fee",
   "metadata": {
    "execution": {
     "iopub.execute_input": "2022-03-14T19:29:29.437168Z",
     "iopub.status.busy": "2022-03-14T19:29:29.436508Z",
     "iopub.status.idle": "2022-03-14T19:29:29.438872Z",
     "shell.execute_reply": "2022-03-14T19:29:29.439332Z",
     "shell.execute_reply.started": "2022-03-14T14:33:13.984673Z"
    },
    "papermill": {
     "duration": 0.052185,
     "end_time": "2022-03-14T19:29:29.439499",
     "exception": false,
     "start_time": "2022-03-14T19:29:29.387314",
     "status": "completed"
    },
    "tags": []
   },
   "outputs": [],
   "source": [
    "#CA_high_earners"
   ]
  },
  {
   "cell_type": "markdown",
   "id": "6901e177",
   "metadata": {
    "papermill": {
     "duration": 0.044961,
     "end_time": "2022-03-14T19:29:29.529976",
     "exception": false,
     "start_time": "2022-03-14T19:29:29.485015",
     "status": "completed"
    },
    "tags": []
   },
   "source": [
    "Use the next code cell to join the `CA_counties` GeoDataFrame with `CA_pop`, `CA_high_earners`, and `CA_median_age`.\n",
    "\n",
    "Name the resultant GeoDataFrame `CA_stats`, and make sure it has 8 columns: \"GEOID\", \"name\", \"area_sqkm\", \"geometry\", \"population\", \"high_earners\", and \"median_age\".  Also, make sure the CRS is set to `{'init': 'epsg:4326'}`."
   ]
  },
  {
   "cell_type": "code",
   "execution_count": 20,
   "id": "c6cf91c0",
   "metadata": {
    "execution": {
     "iopub.execute_input": "2022-03-14T19:29:29.634091Z",
     "iopub.status.busy": "2022-03-14T19:29:29.633416Z",
     "iopub.status.idle": "2022-03-14T19:29:30.221233Z",
     "shell.execute_reply": "2022-03-14T19:29:30.220709Z",
     "shell.execute_reply.started": "2022-03-14T14:33:15.544876Z"
    },
    "papermill": {
     "duration": 0.645295,
     "end_time": "2022-03-14T19:29:30.221397",
     "exception": false,
     "start_time": "2022-03-14T19:29:29.576102",
     "status": "completed"
    },
    "tags": []
   },
   "outputs": [
    {
     "name": "stderr",
     "output_type": "stream",
     "text": [
      "/opt/conda/lib/python3.7/site-packages/pyproj/crs/crs.py:68: FutureWarning: '+init=<authority>:<code>' syntax is deprecated. '<authority>:<code>' is the preferred initialization method. When making the change, be mindful of axis order changes: https://pyproj4.github.io/pyproj/stable/gotchas.html#axis-order-changes-in-proj-6\n",
      "  return _prepare_from_string(\" \".join(pjargs))\n"
     ]
    },
    {
     "data": {
      "application/javascript": [
       "parent.postMessage({\"jupyterEvent\": \"custom.exercise_interaction\", \"data\": {\"outcomeType\": 1, \"valueTowardsCompletion\": 0.2, \"interactionType\": 1, \"questionType\": 2, \"questionId\": \"3_Q3\", \"learnToolsVersion\": \"0.3.4\", \"failureMessage\": \"\", \"exceptionClass\": \"\", \"trace\": \"\"}}, \"*\")"
      ],
      "text/plain": [
       "<IPython.core.display.Javascript object>"
      ]
     },
     "metadata": {},
     "output_type": "display_data"
    },
    {
     "data": {
      "text/markdown": [
       "<span style=\"color:#33cc33\">Correct</span>"
      ],
      "text/plain": [
       "Correct"
      ]
     },
     "metadata": {},
     "output_type": "display_data"
    },
    {
     "data": {
      "text/html": [
       "<div>\n",
       "<style scoped>\n",
       "    .dataframe tbody tr th:only-of-type {\n",
       "        vertical-align: middle;\n",
       "    }\n",
       "\n",
       "    .dataframe tbody tr th {\n",
       "        vertical-align: top;\n",
       "    }\n",
       "\n",
       "    .dataframe thead th {\n",
       "        text-align: right;\n",
       "    }\n",
       "</style>\n",
       "<table border=\"1\" class=\"dataframe\">\n",
       "  <thead>\n",
       "    <tr style=\"text-align: right;\">\n",
       "      <th></th>\n",
       "      <th>GEOID</th>\n",
       "      <th>name</th>\n",
       "      <th>area_sqkm</th>\n",
       "      <th>geometry</th>\n",
       "      <th>population</th>\n",
       "      <th>high_earners</th>\n",
       "      <th>median_age</th>\n",
       "    </tr>\n",
       "  </thead>\n",
       "  <tbody>\n",
       "    <tr>\n",
       "      <th>0</th>\n",
       "      <td>6091</td>\n",
       "      <td>Sierra County</td>\n",
       "      <td>2491.995494</td>\n",
       "      <td>POLYGON ((-120.65560 39.69357, -120.65554 39.6...</td>\n",
       "      <td>2987</td>\n",
       "      <td>111</td>\n",
       "      <td>55.0</td>\n",
       "    </tr>\n",
       "    <tr>\n",
       "      <th>1</th>\n",
       "      <td>6067</td>\n",
       "      <td>Sacramento County</td>\n",
       "      <td>2575.258262</td>\n",
       "      <td>POLYGON ((-121.18858 38.71431, -121.18732 38.7...</td>\n",
       "      <td>1540975</td>\n",
       "      <td>65768</td>\n",
       "      <td>35.9</td>\n",
       "    </tr>\n",
       "    <tr>\n",
       "      <th>2</th>\n",
       "      <td>6083</td>\n",
       "      <td>Santa Barbara County</td>\n",
       "      <td>9813.817958</td>\n",
       "      <td>MULTIPOLYGON (((-120.58191 34.09856, -120.5822...</td>\n",
       "      <td>446527</td>\n",
       "      <td>25231</td>\n",
       "      <td>33.7</td>\n",
       "    </tr>\n",
       "    <tr>\n",
       "      <th>3</th>\n",
       "      <td>6009</td>\n",
       "      <td>Calaveras County</td>\n",
       "      <td>2685.626726</td>\n",
       "      <td>POLYGON ((-120.63095 38.34111, -120.63058 38.3...</td>\n",
       "      <td>45602</td>\n",
       "      <td>2046</td>\n",
       "      <td>51.6</td>\n",
       "    </tr>\n",
       "    <tr>\n",
       "      <th>4</th>\n",
       "      <td>6111</td>\n",
       "      <td>Ventura County</td>\n",
       "      <td>5719.321379</td>\n",
       "      <td>MULTIPOLYGON (((-119.63631 33.27304, -119.6360...</td>\n",
       "      <td>850967</td>\n",
       "      <td>57121</td>\n",
       "      <td>37.5</td>\n",
       "    </tr>\n",
       "    <tr>\n",
       "      <th>5</th>\n",
       "      <td>6037</td>\n",
       "      <td>Los Angeles County</td>\n",
       "      <td>12305.376879</td>\n",
       "      <td>MULTIPOLYGON (((-118.66761 33.47749, -118.6682...</td>\n",
       "      <td>10105518</td>\n",
       "      <td>501413</td>\n",
       "      <td>36.0</td>\n",
       "    </tr>\n",
       "    <tr>\n",
       "      <th>6</th>\n",
       "      <td>6097</td>\n",
       "      <td>Sonoma County</td>\n",
       "      <td>4578.952090</td>\n",
       "      <td>POLYGON ((-122.93507 38.31396, -122.93511 38.3...</td>\n",
       "      <td>499942</td>\n",
       "      <td>32713</td>\n",
       "      <td>41.4</td>\n",
       "    </tr>\n",
       "    <tr>\n",
       "      <th>7</th>\n",
       "      <td>6031</td>\n",
       "      <td>Kings County</td>\n",
       "      <td>3604.052342</td>\n",
       "      <td>POLYGON ((-119.95894 36.25547, -119.95894 36.2...</td>\n",
       "      <td>151366</td>\n",
       "      <td>2943</td>\n",
       "      <td>31.5</td>\n",
       "    </tr>\n",
       "    <tr>\n",
       "      <th>8</th>\n",
       "      <td>6073</td>\n",
       "      <td>San Diego County</td>\n",
       "      <td>11721.342229</td>\n",
       "      <td>POLYGON ((-117.43744 33.17953, -117.44955 33.1...</td>\n",
       "      <td>3343364</td>\n",
       "      <td>194676</td>\n",
       "      <td>35.4</td>\n",
       "    </tr>\n",
       "    <tr>\n",
       "      <th>9</th>\n",
       "      <td>6061</td>\n",
       "      <td>Placer County</td>\n",
       "      <td>3890.821444</td>\n",
       "      <td>POLYGON ((-121.06545 39.00654, -121.06538 39.0...</td>\n",
       "      <td>393149</td>\n",
       "      <td>28334</td>\n",
       "      <td>41.6</td>\n",
       "    </tr>\n",
       "  </tbody>\n",
       "</table>\n",
       "</div>"
      ],
      "text/plain": [
       "   GEOID                  name     area_sqkm  \\\n",
       "0   6091         Sierra County   2491.995494   \n",
       "1   6067     Sacramento County   2575.258262   \n",
       "2   6083  Santa Barbara County   9813.817958   \n",
       "3   6009      Calaveras County   2685.626726   \n",
       "4   6111        Ventura County   5719.321379   \n",
       "5   6037    Los Angeles County  12305.376879   \n",
       "6   6097         Sonoma County   4578.952090   \n",
       "7   6031          Kings County   3604.052342   \n",
       "8   6073      San Diego County  11721.342229   \n",
       "9   6061         Placer County   3890.821444   \n",
       "\n",
       "                                            geometry  population  \\\n",
       "0  POLYGON ((-120.65560 39.69357, -120.65554 39.6...        2987   \n",
       "1  POLYGON ((-121.18858 38.71431, -121.18732 38.7...     1540975   \n",
       "2  MULTIPOLYGON (((-120.58191 34.09856, -120.5822...      446527   \n",
       "3  POLYGON ((-120.63095 38.34111, -120.63058 38.3...       45602   \n",
       "4  MULTIPOLYGON (((-119.63631 33.27304, -119.6360...      850967   \n",
       "5  MULTIPOLYGON (((-118.66761 33.47749, -118.6682...    10105518   \n",
       "6  POLYGON ((-122.93507 38.31396, -122.93511 38.3...      499942   \n",
       "7  POLYGON ((-119.95894 36.25547, -119.95894 36.2...      151366   \n",
       "8  POLYGON ((-117.43744 33.17953, -117.44955 33.1...     3343364   \n",
       "9  POLYGON ((-121.06545 39.00654, -121.06538 39.0...      393149   \n",
       "\n",
       "   high_earners  median_age  \n",
       "0           111        55.0  \n",
       "1         65768        35.9  \n",
       "2         25231        33.7  \n",
       "3          2046        51.6  \n",
       "4         57121        37.5  \n",
       "5        501413        36.0  \n",
       "6         32713        41.4  \n",
       "7          2943        31.5  \n",
       "8        194676        35.4  \n",
       "9         28334        41.6  "
      ]
     },
     "execution_count": 20,
     "metadata": {},
     "output_type": "execute_result"
    }
   ],
   "source": [
    "# Your code here\n",
    "cols_to_add = CA_pop.join([CA_high_earners, CA_median_age]).reset_index()\n",
    "CA_stats = CA_counties.merge(cols_to_add, on=\"GEOID\")\n",
    "CA_stats.crs = {'init': 'epsg:4326'}\n",
    "\n",
    "# Check your answer\n",
    "q_3.check()\n",
    "CA_stats.head(10)"
   ]
  },
  {
   "cell_type": "markdown",
   "id": "ef4b721d",
   "metadata": {
    "papermill": {
     "duration": 0.04726,
     "end_time": "2022-03-14T19:29:30.316349",
     "exception": false,
     "start_time": "2022-03-14T19:29:30.269089",
     "status": "completed"
    },
    "tags": []
   },
   "source": [
    "Now that we have all of the data in one place, it's much easier to calculate statistics that use a combination of columns.  Run the next code cell to create a \"density\" column with the population density."
   ]
  },
  {
   "cell_type": "code",
   "execution_count": 21,
   "id": "8142e8a7",
   "metadata": {
    "execution": {
     "iopub.execute_input": "2022-03-14T19:29:30.421683Z",
     "iopub.status.busy": "2022-03-14T19:29:30.420995Z",
     "iopub.status.idle": "2022-03-14T19:29:30.567920Z",
     "shell.execute_reply": "2022-03-14T19:29:30.567403Z",
     "shell.execute_reply.started": "2022-03-14T14:34:39.013355Z"
    },
    "papermill": {
     "duration": 0.203694,
     "end_time": "2022-03-14T19:29:30.568061",
     "exception": false,
     "start_time": "2022-03-14T19:29:30.364367",
     "status": "completed"
    },
    "tags": []
   },
   "outputs": [
    {
     "data": {
      "text/html": [
       "<div>\n",
       "<style scoped>\n",
       "    .dataframe tbody tr th:only-of-type {\n",
       "        vertical-align: middle;\n",
       "    }\n",
       "\n",
       "    .dataframe tbody tr th {\n",
       "        vertical-align: top;\n",
       "    }\n",
       "\n",
       "    .dataframe thead th {\n",
       "        text-align: right;\n",
       "    }\n",
       "</style>\n",
       "<table border=\"1\" class=\"dataframe\">\n",
       "  <thead>\n",
       "    <tr style=\"text-align: right;\">\n",
       "      <th></th>\n",
       "      <th>GEOID</th>\n",
       "      <th>name</th>\n",
       "      <th>area_sqkm</th>\n",
       "      <th>geometry</th>\n",
       "      <th>population</th>\n",
       "      <th>high_earners</th>\n",
       "      <th>median_age</th>\n",
       "      <th>density</th>\n",
       "    </tr>\n",
       "  </thead>\n",
       "  <tbody>\n",
       "    <tr>\n",
       "      <th>0</th>\n",
       "      <td>6091</td>\n",
       "      <td>Sierra County</td>\n",
       "      <td>2491.995494</td>\n",
       "      <td>POLYGON ((-120.65560 39.69357, -120.65554 39.6...</td>\n",
       "      <td>2987</td>\n",
       "      <td>111</td>\n",
       "      <td>55.0</td>\n",
       "      <td>1.198638</td>\n",
       "    </tr>\n",
       "    <tr>\n",
       "      <th>1</th>\n",
       "      <td>6067</td>\n",
       "      <td>Sacramento County</td>\n",
       "      <td>2575.258262</td>\n",
       "      <td>POLYGON ((-121.18858 38.71431, -121.18732 38.7...</td>\n",
       "      <td>1540975</td>\n",
       "      <td>65768</td>\n",
       "      <td>35.9</td>\n",
       "      <td>598.376878</td>\n",
       "    </tr>\n",
       "    <tr>\n",
       "      <th>2</th>\n",
       "      <td>6083</td>\n",
       "      <td>Santa Barbara County</td>\n",
       "      <td>9813.817958</td>\n",
       "      <td>MULTIPOLYGON (((-120.58191 34.09856, -120.5822...</td>\n",
       "      <td>446527</td>\n",
       "      <td>25231</td>\n",
       "      <td>33.7</td>\n",
       "      <td>45.499825</td>\n",
       "    </tr>\n",
       "    <tr>\n",
       "      <th>3</th>\n",
       "      <td>6009</td>\n",
       "      <td>Calaveras County</td>\n",
       "      <td>2685.626726</td>\n",
       "      <td>POLYGON ((-120.63095 38.34111, -120.63058 38.3...</td>\n",
       "      <td>45602</td>\n",
       "      <td>2046</td>\n",
       "      <td>51.6</td>\n",
       "      <td>16.980022</td>\n",
       "    </tr>\n",
       "    <tr>\n",
       "      <th>4</th>\n",
       "      <td>6111</td>\n",
       "      <td>Ventura County</td>\n",
       "      <td>5719.321379</td>\n",
       "      <td>MULTIPOLYGON (((-119.63631 33.27304, -119.6360...</td>\n",
       "      <td>850967</td>\n",
       "      <td>57121</td>\n",
       "      <td>37.5</td>\n",
       "      <td>148.788107</td>\n",
       "    </tr>\n",
       "  </tbody>\n",
       "</table>\n",
       "</div>"
      ],
      "text/plain": [
       "   GEOID                  name    area_sqkm  \\\n",
       "0   6091         Sierra County  2491.995494   \n",
       "1   6067     Sacramento County  2575.258262   \n",
       "2   6083  Santa Barbara County  9813.817958   \n",
       "3   6009      Calaveras County  2685.626726   \n",
       "4   6111        Ventura County  5719.321379   \n",
       "\n",
       "                                            geometry  population  \\\n",
       "0  POLYGON ((-120.65560 39.69357, -120.65554 39.6...        2987   \n",
       "1  POLYGON ((-121.18858 38.71431, -121.18732 38.7...     1540975   \n",
       "2  MULTIPOLYGON (((-120.58191 34.09856, -120.5822...      446527   \n",
       "3  POLYGON ((-120.63095 38.34111, -120.63058 38.3...       45602   \n",
       "4  MULTIPOLYGON (((-119.63631 33.27304, -119.6360...      850967   \n",
       "\n",
       "   high_earners  median_age     density  \n",
       "0           111        55.0    1.198638  \n",
       "1         65768        35.9  598.376878  \n",
       "2         25231        33.7   45.499825  \n",
       "3          2046        51.6   16.980022  \n",
       "4         57121        37.5  148.788107  "
      ]
     },
     "execution_count": 21,
     "metadata": {},
     "output_type": "execute_result"
    }
   ],
   "source": [
    "CA_stats[\"density\"] = CA_stats[\"population\"] / CA_stats[\"area_sqkm\"]\n",
    "CA_stats.head()"
   ]
  },
  {
   "cell_type": "code",
   "execution_count": 22,
   "id": "bd40aab9",
   "metadata": {
    "execution": {
     "iopub.execute_input": "2022-03-14T19:29:30.672684Z",
     "iopub.status.busy": "2022-03-14T19:29:30.671942Z",
     "iopub.status.idle": "2022-03-14T19:29:30.694980Z",
     "shell.execute_reply": "2022-03-14T19:29:30.694450Z",
     "shell.execute_reply.started": "2022-03-14T14:41:03.672051Z"
    },
    "papermill": {
     "duration": 0.078693,
     "end_time": "2022-03-14T19:29:30.695130",
     "exception": false,
     "start_time": "2022-03-14T19:29:30.616437",
     "status": "completed"
    },
    "tags": []
   },
   "outputs": [
    {
     "data": {
      "text/html": [
       "<div>\n",
       "<style scoped>\n",
       "    .dataframe tbody tr th:only-of-type {\n",
       "        vertical-align: middle;\n",
       "    }\n",
       "\n",
       "    .dataframe tbody tr th {\n",
       "        vertical-align: top;\n",
       "    }\n",
       "\n",
       "    .dataframe thead th {\n",
       "        text-align: right;\n",
       "    }\n",
       "</style>\n",
       "<table border=\"1\" class=\"dataframe\">\n",
       "  <thead>\n",
       "    <tr style=\"text-align: right;\">\n",
       "      <th></th>\n",
       "      <th>GEOID</th>\n",
       "      <th>area_sqkm</th>\n",
       "      <th>population</th>\n",
       "      <th>high_earners</th>\n",
       "      <th>median_age</th>\n",
       "      <th>density</th>\n",
       "    </tr>\n",
       "  </thead>\n",
       "  <tbody>\n",
       "    <tr>\n",
       "      <th>count</th>\n",
       "      <td>58.000000</td>\n",
       "      <td>58.000000</td>\n",
       "      <td>5.800000e+01</td>\n",
       "      <td>58.000000</td>\n",
       "      <td>58.000000</td>\n",
       "      <td>58.000000</td>\n",
       "    </tr>\n",
       "    <tr>\n",
       "      <th>mean</th>\n",
       "      <td>6058.000000</td>\n",
       "      <td>7309.790554</td>\n",
       "      <td>6.820180e+05</td>\n",
       "      <td>39038.482759</td>\n",
       "      <td>39.474138</td>\n",
       "      <td>157.229368</td>\n",
       "    </tr>\n",
       "    <tr>\n",
       "      <th>std</th>\n",
       "      <td>33.773757</td>\n",
       "      <td>8072.512258</td>\n",
       "      <td>1.475165e+06</td>\n",
       "      <td>82066.991389</td>\n",
       "      <td>6.473280</td>\n",
       "      <td>301.609797</td>\n",
       "    </tr>\n",
       "    <tr>\n",
       "      <th>min</th>\n",
       "      <td>6001.000000</td>\n",
       "      <td>600.588247</td>\n",
       "      <td>1.101000e+03</td>\n",
       "      <td>30.000000</td>\n",
       "      <td>30.600000</td>\n",
       "      <td>0.571993</td>\n",
       "    </tr>\n",
       "    <tr>\n",
       "      <th>25%</th>\n",
       "      <td>6029.500000</td>\n",
       "      <td>2535.404026</td>\n",
       "      <td>4.783625e+04</td>\n",
       "      <td>1317.500000</td>\n",
       "      <td>34.775000</td>\n",
       "      <td>8.867764</td>\n",
       "    </tr>\n",
       "    <tr>\n",
       "      <th>50%</th>\n",
       "      <td>6058.000000</td>\n",
       "      <td>4132.385962</td>\n",
       "      <td>1.862525e+05</td>\n",
       "      <td>6396.500000</td>\n",
       "      <td>37.600000</td>\n",
       "      <td>41.851351</td>\n",
       "    </tr>\n",
       "    <tr>\n",
       "      <th>75%</th>\n",
       "      <td>6086.500000</td>\n",
       "      <td>9926.991709</td>\n",
       "      <td>7.019488e+05</td>\n",
       "      <td>28001.500000</td>\n",
       "      <td>44.275000</td>\n",
       "      <td>127.438530</td>\n",
       "    </tr>\n",
       "    <tr>\n",
       "      <th>max</th>\n",
       "      <td>6115.000000</td>\n",
       "      <td>52071.981221</td>\n",
       "      <td>1.010552e+07</td>\n",
       "      <td>501413.000000</td>\n",
       "      <td>55.000000</td>\n",
       "      <td>1470.733077</td>\n",
       "    </tr>\n",
       "  </tbody>\n",
       "</table>\n",
       "</div>"
      ],
      "text/plain": [
       "             GEOID     area_sqkm    population   high_earners  median_age  \\\n",
       "count    58.000000     58.000000  5.800000e+01      58.000000   58.000000   \n",
       "mean   6058.000000   7309.790554  6.820180e+05   39038.482759   39.474138   \n",
       "std      33.773757   8072.512258  1.475165e+06   82066.991389    6.473280   \n",
       "min    6001.000000    600.588247  1.101000e+03      30.000000   30.600000   \n",
       "25%    6029.500000   2535.404026  4.783625e+04    1317.500000   34.775000   \n",
       "50%    6058.000000   4132.385962  1.862525e+05    6396.500000   37.600000   \n",
       "75%    6086.500000   9926.991709  7.019488e+05   28001.500000   44.275000   \n",
       "max    6115.000000  52071.981221  1.010552e+07  501413.000000   55.000000   \n",
       "\n",
       "           density  \n",
       "count    58.000000  \n",
       "mean    157.229368  \n",
       "std     301.609797  \n",
       "min       0.571993  \n",
       "25%       8.867764  \n",
       "50%      41.851351  \n",
       "75%     127.438530  \n",
       "max    1470.733077  "
      ]
     },
     "execution_count": 22,
     "metadata": {},
     "output_type": "execute_result"
    }
   ],
   "source": [
    "CA_stats.describe()"
   ]
  },
  {
   "cell_type": "code",
   "execution_count": 23,
   "id": "5542f8b2",
   "metadata": {
    "execution": {
     "iopub.execute_input": "2022-03-14T19:29:30.804635Z",
     "iopub.status.busy": "2022-03-14T19:29:30.803922Z",
     "iopub.status.idle": "2022-03-14T19:29:30.806507Z",
     "shell.execute_reply": "2022-03-14T19:29:30.806956Z",
     "shell.execute_reply.started": "2022-03-14T14:46:13.380197Z"
    },
    "papermill": {
     "duration": 0.061203,
     "end_time": "2022-03-14T19:29:30.807131",
     "exception": false,
     "start_time": "2022-03-14T19:29:30.745928",
     "status": "completed"
    },
    "tags": []
   },
   "outputs": [],
   "source": [
    "# Your code here\n",
    "sel_counties = CA_stats[((CA_stats.high_earners > 100000) &\n",
    "                         (CA_stats.median_age < 38.5) &\n",
    "                         (CA_stats.density > 285) &\n",
    "                         ((CA_stats.median_age < 35.5) |\n",
    "                         (CA_stats.density > 1400) |\n",
    "                         (CA_stats.high_earners > 500000)))]\n"
   ]
  },
  {
   "cell_type": "code",
   "execution_count": 24,
   "id": "a056670c",
   "metadata": {
    "execution": {
     "iopub.execute_input": "2022-03-14T19:29:30.912365Z",
     "iopub.status.busy": "2022-03-14T19:29:30.911691Z",
     "iopub.status.idle": "2022-03-14T19:29:30.969537Z",
     "shell.execute_reply": "2022-03-14T19:29:30.968972Z",
     "shell.execute_reply.started": "2022-03-14T14:46:24.605941Z"
    },
    "papermill": {
     "duration": 0.11377,
     "end_time": "2022-03-14T19:29:30.969684",
     "exception": false,
     "start_time": "2022-03-14T19:29:30.855914",
     "status": "completed"
    },
    "tags": []
   },
   "outputs": [
    {
     "data": {
      "text/html": [
       "<div>\n",
       "<style scoped>\n",
       "    .dataframe tbody tr th:only-of-type {\n",
       "        vertical-align: middle;\n",
       "    }\n",
       "\n",
       "    .dataframe tbody tr th {\n",
       "        vertical-align: top;\n",
       "    }\n",
       "\n",
       "    .dataframe thead th {\n",
       "        text-align: right;\n",
       "    }\n",
       "</style>\n",
       "<table border=\"1\" class=\"dataframe\">\n",
       "  <thead>\n",
       "    <tr style=\"text-align: right;\">\n",
       "      <th></th>\n",
       "      <th>GEOID</th>\n",
       "      <th>name</th>\n",
       "      <th>area_sqkm</th>\n",
       "      <th>geometry</th>\n",
       "      <th>population</th>\n",
       "      <th>high_earners</th>\n",
       "      <th>median_age</th>\n",
       "      <th>density</th>\n",
       "    </tr>\n",
       "  </thead>\n",
       "  <tbody>\n",
       "    <tr>\n",
       "      <th>5</th>\n",
       "      <td>6037</td>\n",
       "      <td>Los Angeles County</td>\n",
       "      <td>12305.376879</td>\n",
       "      <td>MULTIPOLYGON (((-118.66761 33.47749, -118.6682...</td>\n",
       "      <td>10105518</td>\n",
       "      <td>501413</td>\n",
       "      <td>36.0</td>\n",
       "      <td>821.227834</td>\n",
       "    </tr>\n",
       "    <tr>\n",
       "      <th>8</th>\n",
       "      <td>6073</td>\n",
       "      <td>San Diego County</td>\n",
       "      <td>11721.342229</td>\n",
       "      <td>POLYGON ((-117.43744 33.17953, -117.44955 33.1...</td>\n",
       "      <td>3343364</td>\n",
       "      <td>194676</td>\n",
       "      <td>35.4</td>\n",
       "      <td>285.237299</td>\n",
       "    </tr>\n",
       "    <tr>\n",
       "      <th>10</th>\n",
       "      <td>6075</td>\n",
       "      <td>San Francisco County</td>\n",
       "      <td>600.588247</td>\n",
       "      <td>MULTIPOLYGON (((-122.60025 37.80249, -122.6123...</td>\n",
       "      <td>883305</td>\n",
       "      <td>114989</td>\n",
       "      <td>38.3</td>\n",
       "      <td>1470.733077</td>\n",
       "    </tr>\n",
       "  </tbody>\n",
       "</table>\n",
       "</div>"
      ],
      "text/plain": [
       "    GEOID                  name     area_sqkm  \\\n",
       "5    6037    Los Angeles County  12305.376879   \n",
       "8    6073      San Diego County  11721.342229   \n",
       "10   6075  San Francisco County    600.588247   \n",
       "\n",
       "                                             geometry  population  \\\n",
       "5   MULTIPOLYGON (((-118.66761 33.47749, -118.6682...    10105518   \n",
       "8   POLYGON ((-117.43744 33.17953, -117.44955 33.1...     3343364   \n",
       "10  MULTIPOLYGON (((-122.60025 37.80249, -122.6123...      883305   \n",
       "\n",
       "    high_earners  median_age      density  \n",
       "5         501413        36.0   821.227834  \n",
       "8         194676        35.4   285.237299  \n",
       "10        114989        38.3  1470.733077  "
      ]
     },
     "execution_count": 24,
     "metadata": {},
     "output_type": "execute_result"
    }
   ],
   "source": [
    "sel_counties"
   ]
  },
  {
   "cell_type": "markdown",
   "id": "8a54d46a",
   "metadata": {
    "papermill": {
     "duration": 0.055477,
     "end_time": "2022-03-14T19:29:31.075950",
     "exception": false,
     "start_time": "2022-03-14T19:29:31.020473",
     "status": "completed"
    },
    "tags": []
   },
   "source": [
    "### 5) How many stores did you identify?\n",
    "\n",
    "When looking for the next Starbucks Reserve Roastery location, you'd like to consider all of the stores within the counties that you selected.  So, how many stores are within the selected counties?\n",
    "\n",
    "To prepare to answer this question, run the next code cell to create a GeoDataFrame `starbucks_gdf` with all of the starbucks locations."
   ]
  },
  {
   "cell_type": "code",
   "execution_count": 25,
   "id": "b379dbb3",
   "metadata": {
    "execution": {
     "iopub.execute_input": "2022-03-14T19:29:31.179007Z",
     "iopub.status.busy": "2022-03-14T19:29:31.178281Z",
     "iopub.status.idle": "2022-03-14T19:29:31.194635Z",
     "shell.execute_reply": "2022-03-14T19:29:31.195100Z",
     "shell.execute_reply.started": "2022-03-14T14:48:01.660616Z"
    },
    "papermill": {
     "duration": 0.069572,
     "end_time": "2022-03-14T19:29:31.195309",
     "exception": false,
     "start_time": "2022-03-14T19:29:31.125737",
     "status": "completed"
    },
    "tags": []
   },
   "outputs": [
    {
     "name": "stderr",
     "output_type": "stream",
     "text": [
      "/opt/conda/lib/python3.7/site-packages/pyproj/crs/crs.py:68: FutureWarning: '+init=<authority>:<code>' syntax is deprecated. '<authority>:<code>' is the preferred initialization method. When making the change, be mindful of axis order changes: https://pyproj4.github.io/pyproj/stable/gotchas.html#axis-order-changes-in-proj-6\n",
      "  return _prepare_from_string(\" \".join(pjargs))\n"
     ]
    }
   ],
   "source": [
    "starbucks_gdf = gpd.GeoDataFrame(starbucks, geometry=gpd.points_from_xy(starbucks.Longitude, starbucks.Latitude))\n",
    "starbucks_gdf.crs = {'init': 'epsg:4326'}"
   ]
  },
  {
   "cell_type": "code",
   "execution_count": 26,
   "id": "e2b992f2",
   "metadata": {
    "execution": {
     "iopub.execute_input": "2022-03-14T19:29:31.311723Z",
     "iopub.status.busy": "2022-03-14T19:29:31.301721Z",
     "iopub.status.idle": "2022-03-14T19:29:31.329680Z",
     "shell.execute_reply": "2022-03-14T19:29:31.328999Z",
     "shell.execute_reply.started": "2022-03-14T14:49:29.472463Z"
    },
    "papermill": {
     "duration": 0.083128,
     "end_time": "2022-03-14T19:29:31.329826",
     "exception": false,
     "start_time": "2022-03-14T19:29:31.246698",
     "status": "completed"
    },
    "tags": []
   },
   "outputs": [
    {
     "data": {
      "text/html": [
       "<div>\n",
       "<style scoped>\n",
       "    .dataframe tbody tr th:only-of-type {\n",
       "        vertical-align: middle;\n",
       "    }\n",
       "\n",
       "    .dataframe tbody tr th {\n",
       "        vertical-align: top;\n",
       "    }\n",
       "\n",
       "    .dataframe thead th {\n",
       "        text-align: right;\n",
       "    }\n",
       "</style>\n",
       "<table border=\"1\" class=\"dataframe\">\n",
       "  <thead>\n",
       "    <tr style=\"text-align: right;\">\n",
       "      <th></th>\n",
       "      <th>Store Number</th>\n",
       "      <th>Store Name</th>\n",
       "      <th>Address</th>\n",
       "      <th>City</th>\n",
       "      <th>Longitude</th>\n",
       "      <th>Latitude</th>\n",
       "      <th>geometry</th>\n",
       "    </tr>\n",
       "  </thead>\n",
       "  <tbody>\n",
       "    <tr>\n",
       "      <th>0</th>\n",
       "      <td>10429-100710</td>\n",
       "      <td>Palmdale &amp; Hwy 395</td>\n",
       "      <td>14136 US Hwy 395 Adelanto CA</td>\n",
       "      <td>Adelanto</td>\n",
       "      <td>-117.40</td>\n",
       "      <td>34.51</td>\n",
       "      <td>POINT (-117.40000 34.51000)</td>\n",
       "    </tr>\n",
       "    <tr>\n",
       "      <th>1</th>\n",
       "      <td>635-352</td>\n",
       "      <td>Kanan &amp; Thousand Oaks</td>\n",
       "      <td>5827 Kanan Road Agoura CA</td>\n",
       "      <td>Agoura</td>\n",
       "      <td>-118.76</td>\n",
       "      <td>34.16</td>\n",
       "      <td>POINT (-118.76000 34.16000)</td>\n",
       "    </tr>\n",
       "    <tr>\n",
       "      <th>2</th>\n",
       "      <td>74510-27669</td>\n",
       "      <td>Vons-Agoura Hills #2001</td>\n",
       "      <td>5671 Kanan Rd. Agoura Hills CA</td>\n",
       "      <td>Agoura Hills</td>\n",
       "      <td>-118.76</td>\n",
       "      <td>34.15</td>\n",
       "      <td>POINT (-118.76000 34.15000)</td>\n",
       "    </tr>\n",
       "    <tr>\n",
       "      <th>3</th>\n",
       "      <td>29839-255026</td>\n",
       "      <td>Target Anaheim T-0677</td>\n",
       "      <td>8148 E SANTA ANA CANYON ROAD AHAHEIM CA</td>\n",
       "      <td>AHAHEIM</td>\n",
       "      <td>-117.75</td>\n",
       "      <td>33.87</td>\n",
       "      <td>POINT (-117.75000 33.87000)</td>\n",
       "    </tr>\n",
       "    <tr>\n",
       "      <th>4</th>\n",
       "      <td>23463-230284</td>\n",
       "      <td>Safeway - Alameda 3281</td>\n",
       "      <td>2600 5th Street Alameda CA</td>\n",
       "      <td>Alameda</td>\n",
       "      <td>-122.28</td>\n",
       "      <td>37.79</td>\n",
       "      <td>POINT (-122.28000 37.79000)</td>\n",
       "    </tr>\n",
       "    <tr>\n",
       "      <th>...</th>\n",
       "      <td>...</td>\n",
       "      <td>...</td>\n",
       "      <td>...</td>\n",
       "      <td>...</td>\n",
       "      <td>...</td>\n",
       "      <td>...</td>\n",
       "      <td>...</td>\n",
       "    </tr>\n",
       "    <tr>\n",
       "      <th>2816</th>\n",
       "      <td>14071-108147</td>\n",
       "      <td>Hwy 20 &amp; Tharp - Yuba City</td>\n",
       "      <td>1615 Colusa Hwy, Ste 100 Yuba City CA</td>\n",
       "      <td>Yuba City</td>\n",
       "      <td>-121.64</td>\n",
       "      <td>39.14</td>\n",
       "      <td>POINT (-121.64000 39.14000)</td>\n",
       "    </tr>\n",
       "    <tr>\n",
       "      <th>2817</th>\n",
       "      <td>9974-98559</td>\n",
       "      <td>Yucaipa &amp; Hampton, Yucaipa</td>\n",
       "      <td>31364 Yucaipa Blvd., A Yucaipa CA</td>\n",
       "      <td>Yucaipa</td>\n",
       "      <td>-117.12</td>\n",
       "      <td>34.03</td>\n",
       "      <td>POINT (-117.12000 34.03000)</td>\n",
       "    </tr>\n",
       "    <tr>\n",
       "      <th>2818</th>\n",
       "      <td>79654-108478</td>\n",
       "      <td>Vons - Yucaipa #1796</td>\n",
       "      <td>33644 YUCAIPA BLVD YUCAIPA CA</td>\n",
       "      <td>YUCAIPA</td>\n",
       "      <td>-117.07</td>\n",
       "      <td>34.04</td>\n",
       "      <td>POINT (-117.07000 34.04000)</td>\n",
       "    </tr>\n",
       "    <tr>\n",
       "      <th>2819</th>\n",
       "      <td>6438-245084</td>\n",
       "      <td>Yucaipa &amp; 6th</td>\n",
       "      <td>34050 Yucaipa Blvd., 200 Yucaipa CA</td>\n",
       "      <td>Yucaipa</td>\n",
       "      <td>-117.06</td>\n",
       "      <td>34.03</td>\n",
       "      <td>POINT (-117.06000 34.03000)</td>\n",
       "    </tr>\n",
       "    <tr>\n",
       "      <th>2820</th>\n",
       "      <td>6829-82142</td>\n",
       "      <td>Highway 62 &amp; Warren Vista</td>\n",
       "      <td>57744  29 Palms Highway Yucca Valley CA</td>\n",
       "      <td>Yucca Valley</td>\n",
       "      <td>-116.40</td>\n",
       "      <td>34.13</td>\n",
       "      <td>POINT (-116.40000 34.13000)</td>\n",
       "    </tr>\n",
       "  </tbody>\n",
       "</table>\n",
       "<p>2821 rows × 7 columns</p>\n",
       "</div>"
      ],
      "text/plain": [
       "      Store Number                  Store Name  \\\n",
       "0     10429-100710          Palmdale & Hwy 395   \n",
       "1          635-352       Kanan & Thousand Oaks   \n",
       "2      74510-27669     Vons-Agoura Hills #2001   \n",
       "3     29839-255026       Target Anaheim T-0677   \n",
       "4     23463-230284      Safeway - Alameda 3281   \n",
       "...            ...                         ...   \n",
       "2816  14071-108147  Hwy 20 & Tharp - Yuba City   \n",
       "2817    9974-98559  Yucaipa & Hampton, Yucaipa   \n",
       "2818  79654-108478        Vons - Yucaipa #1796   \n",
       "2819   6438-245084               Yucaipa & 6th   \n",
       "2820    6829-82142   Highway 62 & Warren Vista   \n",
       "\n",
       "                                      Address          City  Longitude  \\\n",
       "0                14136 US Hwy 395 Adelanto CA      Adelanto    -117.40   \n",
       "1                   5827 Kanan Road Agoura CA        Agoura    -118.76   \n",
       "2              5671 Kanan Rd. Agoura Hills CA  Agoura Hills    -118.76   \n",
       "3     8148 E SANTA ANA CANYON ROAD AHAHEIM CA       AHAHEIM    -117.75   \n",
       "4                  2600 5th Street Alameda CA       Alameda    -122.28   \n",
       "...                                       ...           ...        ...   \n",
       "2816    1615 Colusa Hwy, Ste 100 Yuba City CA     Yuba City    -121.64   \n",
       "2817        31364 Yucaipa Blvd., A Yucaipa CA       Yucaipa    -117.12   \n",
       "2818            33644 YUCAIPA BLVD YUCAIPA CA       YUCAIPA    -117.07   \n",
       "2819      34050 Yucaipa Blvd., 200 Yucaipa CA       Yucaipa    -117.06   \n",
       "2820  57744  29 Palms Highway Yucca Valley CA  Yucca Valley    -116.40   \n",
       "\n",
       "      Latitude                     geometry  \n",
       "0        34.51  POINT (-117.40000 34.51000)  \n",
       "1        34.16  POINT (-118.76000 34.16000)  \n",
       "2        34.15  POINT (-118.76000 34.15000)  \n",
       "3        33.87  POINT (-117.75000 33.87000)  \n",
       "4        37.79  POINT (-122.28000 37.79000)  \n",
       "...        ...                          ...  \n",
       "2816     39.14  POINT (-121.64000 39.14000)  \n",
       "2817     34.03  POINT (-117.12000 34.03000)  \n",
       "2818     34.04  POINT (-117.07000 34.04000)  \n",
       "2819     34.03  POINT (-117.06000 34.03000)  \n",
       "2820     34.13  POINT (-116.40000 34.13000)  \n",
       "\n",
       "[2821 rows x 7 columns]"
      ]
     },
     "execution_count": 26,
     "metadata": {},
     "output_type": "execute_result"
    }
   ],
   "source": [
    "starbucks_gdf"
   ]
  },
  {
   "cell_type": "code",
   "execution_count": 27,
   "id": "eaaf3ac2",
   "metadata": {
    "execution": {
     "iopub.execute_input": "2022-03-14T19:29:31.439707Z",
     "iopub.status.busy": "2022-03-14T19:29:31.439013Z",
     "iopub.status.idle": "2022-03-14T19:29:31.497420Z",
     "shell.execute_reply": "2022-03-14T19:29:31.496909Z",
     "shell.execute_reply.started": "2022-03-14T14:49:50.143722Z"
    },
    "papermill": {
     "duration": 0.116767,
     "end_time": "2022-03-14T19:29:31.497561",
     "exception": false,
     "start_time": "2022-03-14T19:29:31.380794",
     "status": "completed"
    },
    "tags": []
   },
   "outputs": [
    {
     "data": {
      "text/html": [
       "<div>\n",
       "<style scoped>\n",
       "    .dataframe tbody tr th:only-of-type {\n",
       "        vertical-align: middle;\n",
       "    }\n",
       "\n",
       "    .dataframe tbody tr th {\n",
       "        vertical-align: top;\n",
       "    }\n",
       "\n",
       "    .dataframe thead th {\n",
       "        text-align: right;\n",
       "    }\n",
       "</style>\n",
       "<table border=\"1\" class=\"dataframe\">\n",
       "  <thead>\n",
       "    <tr style=\"text-align: right;\">\n",
       "      <th></th>\n",
       "      <th>GEOID</th>\n",
       "      <th>name</th>\n",
       "      <th>area_sqkm</th>\n",
       "      <th>geometry</th>\n",
       "      <th>population</th>\n",
       "      <th>high_earners</th>\n",
       "      <th>median_age</th>\n",
       "      <th>density</th>\n",
       "    </tr>\n",
       "  </thead>\n",
       "  <tbody>\n",
       "    <tr>\n",
       "      <th>5</th>\n",
       "      <td>6037</td>\n",
       "      <td>Los Angeles County</td>\n",
       "      <td>12305.376879</td>\n",
       "      <td>MULTIPOLYGON (((-118.66761 33.47749, -118.6682...</td>\n",
       "      <td>10105518</td>\n",
       "      <td>501413</td>\n",
       "      <td>36.0</td>\n",
       "      <td>821.227834</td>\n",
       "    </tr>\n",
       "    <tr>\n",
       "      <th>8</th>\n",
       "      <td>6073</td>\n",
       "      <td>San Diego County</td>\n",
       "      <td>11721.342229</td>\n",
       "      <td>POLYGON ((-117.43744 33.17953, -117.44955 33.1...</td>\n",
       "      <td>3343364</td>\n",
       "      <td>194676</td>\n",
       "      <td>35.4</td>\n",
       "      <td>285.237299</td>\n",
       "    </tr>\n",
       "    <tr>\n",
       "      <th>10</th>\n",
       "      <td>6075</td>\n",
       "      <td>San Francisco County</td>\n",
       "      <td>600.588247</td>\n",
       "      <td>MULTIPOLYGON (((-122.60025 37.80249, -122.6123...</td>\n",
       "      <td>883305</td>\n",
       "      <td>114989</td>\n",
       "      <td>38.3</td>\n",
       "      <td>1470.733077</td>\n",
       "    </tr>\n",
       "  </tbody>\n",
       "</table>\n",
       "</div>"
      ],
      "text/plain": [
       "    GEOID                  name     area_sqkm  \\\n",
       "5    6037    Los Angeles County  12305.376879   \n",
       "8    6073      San Diego County  11721.342229   \n",
       "10   6075  San Francisco County    600.588247   \n",
       "\n",
       "                                             geometry  population  \\\n",
       "5   MULTIPOLYGON (((-118.66761 33.47749, -118.6682...    10105518   \n",
       "8   POLYGON ((-117.43744 33.17953, -117.44955 33.1...     3343364   \n",
       "10  MULTIPOLYGON (((-122.60025 37.80249, -122.6123...      883305   \n",
       "\n",
       "    high_earners  median_age      density  \n",
       "5         501413        36.0   821.227834  \n",
       "8         194676        35.4   285.237299  \n",
       "10        114989        38.3  1470.733077  "
      ]
     },
     "execution_count": 27,
     "metadata": {},
     "output_type": "execute_result"
    }
   ],
   "source": [
    "sel_counties"
   ]
  },
  {
   "cell_type": "markdown",
   "id": "28f06598",
   "metadata": {
    "papermill": {
     "duration": 0.050836,
     "end_time": "2022-03-14T19:29:31.600143",
     "exception": false,
     "start_time": "2022-03-14T19:29:31.549307",
     "status": "completed"
    },
    "tags": []
   },
   "source": [
    "So, how many stores are in the counties you selected?"
   ]
  },
  {
   "cell_type": "code",
   "execution_count": 28,
   "id": "6c90e2b8",
   "metadata": {
    "execution": {
     "iopub.execute_input": "2022-03-14T19:29:31.706049Z",
     "iopub.status.busy": "2022-03-14T19:29:31.705347Z",
     "iopub.status.idle": "2022-03-14T19:29:31.822066Z",
     "shell.execute_reply": "2022-03-14T19:29:31.821554Z",
     "shell.execute_reply.started": "2022-03-14T14:54:46.886635Z"
    },
    "papermill": {
     "duration": 0.170844,
     "end_time": "2022-03-14T19:29:31.822211",
     "exception": false,
     "start_time": "2022-03-14T19:29:31.651367",
     "status": "completed"
    },
    "tags": []
   },
   "outputs": [
    {
     "data": {
      "text/html": [
       "<div>\n",
       "<style scoped>\n",
       "    .dataframe tbody tr th:only-of-type {\n",
       "        vertical-align: middle;\n",
       "    }\n",
       "\n",
       "    .dataframe tbody tr th {\n",
       "        vertical-align: top;\n",
       "    }\n",
       "\n",
       "    .dataframe thead th {\n",
       "        text-align: right;\n",
       "    }\n",
       "</style>\n",
       "<table border=\"1\" class=\"dataframe\">\n",
       "  <thead>\n",
       "    <tr style=\"text-align: right;\">\n",
       "      <th></th>\n",
       "      <th>Store Number</th>\n",
       "      <th>Store Name</th>\n",
       "      <th>Address</th>\n",
       "      <th>City</th>\n",
       "      <th>Longitude</th>\n",
       "      <th>Latitude</th>\n",
       "      <th>geometry</th>\n",
       "      <th>index_right</th>\n",
       "      <th>GEOID</th>\n",
       "      <th>name</th>\n",
       "      <th>area_sqkm</th>\n",
       "      <th>population</th>\n",
       "      <th>high_earners</th>\n",
       "      <th>median_age</th>\n",
       "      <th>density</th>\n",
       "    </tr>\n",
       "  </thead>\n",
       "  <tbody>\n",
       "    <tr>\n",
       "      <th>1</th>\n",
       "      <td>635-352</td>\n",
       "      <td>Kanan &amp; Thousand Oaks</td>\n",
       "      <td>5827 Kanan Road Agoura CA</td>\n",
       "      <td>Agoura</td>\n",
       "      <td>-118.76</td>\n",
       "      <td>34.16</td>\n",
       "      <td>POINT (-118.76000 34.16000)</td>\n",
       "      <td>5</td>\n",
       "      <td>6037</td>\n",
       "      <td>Los Angeles County</td>\n",
       "      <td>12305.376879</td>\n",
       "      <td>10105518</td>\n",
       "      <td>501413</td>\n",
       "      <td>36.0</td>\n",
       "      <td>821.227834</td>\n",
       "    </tr>\n",
       "    <tr>\n",
       "      <th>2</th>\n",
       "      <td>74510-27669</td>\n",
       "      <td>Vons-Agoura Hills #2001</td>\n",
       "      <td>5671 Kanan Rd. Agoura Hills CA</td>\n",
       "      <td>Agoura Hills</td>\n",
       "      <td>-118.76</td>\n",
       "      <td>34.15</td>\n",
       "      <td>POINT (-118.76000 34.15000)</td>\n",
       "      <td>5</td>\n",
       "      <td>6037</td>\n",
       "      <td>Los Angeles County</td>\n",
       "      <td>12305.376879</td>\n",
       "      <td>10105518</td>\n",
       "      <td>501413</td>\n",
       "      <td>36.0</td>\n",
       "      <td>821.227834</td>\n",
       "    </tr>\n",
       "    <tr>\n",
       "      <th>14</th>\n",
       "      <td>76365-97162</td>\n",
       "      <td>Target Alhambra T-184</td>\n",
       "      <td>1220 West Main Street Alhambra CA</td>\n",
       "      <td>Alhambra</td>\n",
       "      <td>-118.14</td>\n",
       "      <td>34.09</td>\n",
       "      <td>POINT (-118.14000 34.09000)</td>\n",
       "      <td>5</td>\n",
       "      <td>6037</td>\n",
       "      <td>Los Angeles County</td>\n",
       "      <td>12305.376879</td>\n",
       "      <td>10105518</td>\n",
       "      <td>501413</td>\n",
       "      <td>36.0</td>\n",
       "      <td>821.227834</td>\n",
       "    </tr>\n",
       "    <tr>\n",
       "      <th>15</th>\n",
       "      <td>6794-41839</td>\n",
       "      <td>Fremont Ave &amp; Mission Rd</td>\n",
       "      <td>1131 S Fremont Ave, A Alhambra CA</td>\n",
       "      <td>Alhambra</td>\n",
       "      <td>-118.15</td>\n",
       "      <td>34.08</td>\n",
       "      <td>POINT (-118.15000 34.08000)</td>\n",
       "      <td>5</td>\n",
       "      <td>6037</td>\n",
       "      <td>Los Angeles County</td>\n",
       "      <td>12305.376879</td>\n",
       "      <td>10105518</td>\n",
       "      <td>501413</td>\n",
       "      <td>36.0</td>\n",
       "      <td>821.227834</td>\n",
       "    </tr>\n",
       "    <tr>\n",
       "      <th>16</th>\n",
       "      <td>11220-104633</td>\n",
       "      <td>Atlantic &amp; Valley, Alhambra</td>\n",
       "      <td>1410 South Atlantic Blvd. Alhambra CA</td>\n",
       "      <td>Alhambra</td>\n",
       "      <td>-118.13</td>\n",
       "      <td>34.08</td>\n",
       "      <td>POINT (-118.13000 34.08000)</td>\n",
       "      <td>5</td>\n",
       "      <td>6037</td>\n",
       "      <td>Los Angeles County</td>\n",
       "      <td>12305.376879</td>\n",
       "      <td>10105518</td>\n",
       "      <td>501413</td>\n",
       "      <td>36.0</td>\n",
       "      <td>821.227834</td>\n",
       "    </tr>\n",
       "    <tr>\n",
       "      <th>17</th>\n",
       "      <td>47671-258708</td>\n",
       "      <td>Albertsons - Alhambras 6543</td>\n",
       "      <td>2400 W. Commonwealth Alhambra CA</td>\n",
       "      <td>Alhambra</td>\n",
       "      <td>-118.15</td>\n",
       "      <td>34.09</td>\n",
       "      <td>POINT (-118.15000 34.09000)</td>\n",
       "      <td>5</td>\n",
       "      <td>6037</td>\n",
       "      <td>Los Angeles County</td>\n",
       "      <td>12305.376879</td>\n",
       "      <td>10105518</td>\n",
       "      <td>501413</td>\n",
       "      <td>36.0</td>\n",
       "      <td>821.227834</td>\n",
       "    </tr>\n",
       "    <tr>\n",
       "      <th>18</th>\n",
       "      <td>9385-96258</td>\n",
       "      <td>Valley &amp; Almansor, Alhambra</td>\n",
       "      <td>810 E VALLEY BLVD ALHAMBRA CA</td>\n",
       "      <td>ALHAMBRA</td>\n",
       "      <td>-118.11</td>\n",
       "      <td>34.08</td>\n",
       "      <td>POINT (-118.11000 34.08000)</td>\n",
       "      <td>5</td>\n",
       "      <td>6037</td>\n",
       "      <td>Los Angeles County</td>\n",
       "      <td>12305.376879</td>\n",
       "      <td>10105518</td>\n",
       "      <td>501413</td>\n",
       "      <td>36.0</td>\n",
       "      <td>821.227834</td>\n",
       "    </tr>\n",
       "    <tr>\n",
       "      <th>19</th>\n",
       "      <td>5380-673</td>\n",
       "      <td>Main &amp; 1st - Alhambra</td>\n",
       "      <td>101 W. Main Street Alhambra CA</td>\n",
       "      <td>Alhambra</td>\n",
       "      <td>-118.13</td>\n",
       "      <td>34.09</td>\n",
       "      <td>POINT (-118.13000 34.09000)</td>\n",
       "      <td>5</td>\n",
       "      <td>6037</td>\n",
       "      <td>Los Angeles County</td>\n",
       "      <td>12305.376879</td>\n",
       "      <td>10105518</td>\n",
       "      <td>501413</td>\n",
       "      <td>36.0</td>\n",
       "      <td>821.227834</td>\n",
       "    </tr>\n",
       "    <tr>\n",
       "      <th>67</th>\n",
       "      <td>73672-96295</td>\n",
       "      <td>Albertsons-Arcadia #6561</td>\n",
       "      <td>298 E Live Oak Ave Arcadia CA</td>\n",
       "      <td>Arcadia</td>\n",
       "      <td>-118.02</td>\n",
       "      <td>34.11</td>\n",
       "      <td>POINT (-118.02000 34.11000)</td>\n",
       "      <td>5</td>\n",
       "      <td>6037</td>\n",
       "      <td>Los Angeles County</td>\n",
       "      <td>12305.376879</td>\n",
       "      <td>10105518</td>\n",
       "      <td>501413</td>\n",
       "      <td>36.0</td>\n",
       "      <td>821.227834</td>\n",
       "    </tr>\n",
       "    <tr>\n",
       "      <th>68</th>\n",
       "      <td>5497-1534</td>\n",
       "      <td>300 E. Huntington Dr. - Arcadia</td>\n",
       "      <td>300 E Huntington Drive, B15, Santa Anita Arcad...</td>\n",
       "      <td>Arcadia</td>\n",
       "      <td>-118.02</td>\n",
       "      <td>34.14</td>\n",
       "      <td>POINT (-118.02000 34.14000)</td>\n",
       "      <td>5</td>\n",
       "      <td>6037</td>\n",
       "      <td>Los Angeles County</td>\n",
       "      <td>12305.376879</td>\n",
       "      <td>10105518</td>\n",
       "      <td>501413</td>\n",
       "      <td>36.0</td>\n",
       "      <td>821.227834</td>\n",
       "    </tr>\n",
       "  </tbody>\n",
       "</table>\n",
       "</div>"
      ],
      "text/plain": [
       "    Store Number                       Store Name  \\\n",
       "1        635-352            Kanan & Thousand Oaks   \n",
       "2    74510-27669          Vons-Agoura Hills #2001   \n",
       "14   76365-97162            Target Alhambra T-184   \n",
       "15    6794-41839         Fremont Ave & Mission Rd   \n",
       "16  11220-104633      Atlantic & Valley, Alhambra   \n",
       "17  47671-258708      Albertsons - Alhambras 6543   \n",
       "18    9385-96258      Valley & Almansor, Alhambra   \n",
       "19      5380-673            Main & 1st - Alhambra   \n",
       "67   73672-96295         Albertsons-Arcadia #6561   \n",
       "68     5497-1534  300 E. Huntington Dr. - Arcadia   \n",
       "\n",
       "                                              Address          City  \\\n",
       "1                           5827 Kanan Road Agoura CA        Agoura   \n",
       "2                      5671 Kanan Rd. Agoura Hills CA  Agoura Hills   \n",
       "14                  1220 West Main Street Alhambra CA      Alhambra   \n",
       "15                  1131 S Fremont Ave, A Alhambra CA      Alhambra   \n",
       "16              1410 South Atlantic Blvd. Alhambra CA      Alhambra   \n",
       "17                   2400 W. Commonwealth Alhambra CA      Alhambra   \n",
       "18                      810 E VALLEY BLVD ALHAMBRA CA      ALHAMBRA   \n",
       "19                     101 W. Main Street Alhambra CA      Alhambra   \n",
       "67                      298 E Live Oak Ave Arcadia CA       Arcadia   \n",
       "68  300 E Huntington Drive, B15, Santa Anita Arcad...       Arcadia   \n",
       "\n",
       "    Longitude  Latitude                     geometry  index_right  GEOID  \\\n",
       "1     -118.76     34.16  POINT (-118.76000 34.16000)            5   6037   \n",
       "2     -118.76     34.15  POINT (-118.76000 34.15000)            5   6037   \n",
       "14    -118.14     34.09  POINT (-118.14000 34.09000)            5   6037   \n",
       "15    -118.15     34.08  POINT (-118.15000 34.08000)            5   6037   \n",
       "16    -118.13     34.08  POINT (-118.13000 34.08000)            5   6037   \n",
       "17    -118.15     34.09  POINT (-118.15000 34.09000)            5   6037   \n",
       "18    -118.11     34.08  POINT (-118.11000 34.08000)            5   6037   \n",
       "19    -118.13     34.09  POINT (-118.13000 34.09000)            5   6037   \n",
       "67    -118.02     34.11  POINT (-118.02000 34.11000)            5   6037   \n",
       "68    -118.02     34.14  POINT (-118.02000 34.14000)            5   6037   \n",
       "\n",
       "                  name     area_sqkm  population  high_earners  median_age  \\\n",
       "1   Los Angeles County  12305.376879    10105518        501413        36.0   \n",
       "2   Los Angeles County  12305.376879    10105518        501413        36.0   \n",
       "14  Los Angeles County  12305.376879    10105518        501413        36.0   \n",
       "15  Los Angeles County  12305.376879    10105518        501413        36.0   \n",
       "16  Los Angeles County  12305.376879    10105518        501413        36.0   \n",
       "17  Los Angeles County  12305.376879    10105518        501413        36.0   \n",
       "18  Los Angeles County  12305.376879    10105518        501413        36.0   \n",
       "19  Los Angeles County  12305.376879    10105518        501413        36.0   \n",
       "67  Los Angeles County  12305.376879    10105518        501413        36.0   \n",
       "68  Los Angeles County  12305.376879    10105518        501413        36.0   \n",
       "\n",
       "       density  \n",
       "1   821.227834  \n",
       "2   821.227834  \n",
       "14  821.227834  \n",
       "15  821.227834  \n",
       "16  821.227834  \n",
       "17  821.227834  \n",
       "18  821.227834  \n",
       "19  821.227834  \n",
       "67  821.227834  \n",
       "68  821.227834  "
      ]
     },
     "execution_count": 28,
     "metadata": {},
     "output_type": "execute_result"
    }
   ],
   "source": [
    "# Fill in your answer\n",
    "locations_of_interest = gpd.sjoin(starbucks_gdf, sel_counties)\n",
    "num_stores = len(locations_of_interest)\n",
    "\n",
    "locations_of_interest.head(10)"
   ]
  },
  {
   "cell_type": "markdown",
   "id": "a07c7d8c",
   "metadata": {
    "papermill": {
     "duration": 0.052049,
     "end_time": "2022-03-14T19:29:31.926829",
     "exception": false,
     "start_time": "2022-03-14T19:29:31.874780",
     "status": "completed"
    },
    "tags": []
   },
   "source": [
    "### 6) Visualize the store locations.\n",
    "\n",
    "Create a map that shows the locations of the stores that you identified in the previous question."
   ]
  },
  {
   "cell_type": "code",
   "execution_count": 29,
   "id": "774fde07",
   "metadata": {
    "execution": {
     "iopub.execute_input": "2022-03-14T19:29:32.038654Z",
     "iopub.status.busy": "2022-03-14T19:29:32.037944Z",
     "iopub.status.idle": "2022-03-14T19:29:32.951986Z",
     "shell.execute_reply": "2022-03-14T19:29:32.951397Z",
     "shell.execute_reply.started": "2022-03-14T14:57:43.635928Z"
    },
    "papermill": {
     "duration": 0.973141,
     "end_time": "2022-03-14T19:29:32.952129",
     "exception": false,
     "start_time": "2022-03-14T19:29:31.978988",
     "status": "completed"
    },
    "tags": []
   },
   "outputs": [
    {
     "data": {
      "text/html": [
       "\n",
       "        <iframe\n",
       "            width=\"100%\"\n",
       "            height=\"500px\"\n",
       "            src=\"q_6.html\"\n",
       "            frameborder=\"0\"\n",
       "            allowfullscreen\n",
       "            \n",
       "        ></iframe>\n",
       "        "
      ],
      "text/plain": [
       "<IPython.lib.display.IFrame at 0x7fa9adacfa10>"
      ]
     },
     "execution_count": 29,
     "metadata": {},
     "output_type": "execute_result"
    }
   ],
   "source": [
    "# Create a base map\n",
    "m_6 = folium.Map(location=[37,-120], zoom_start=6)\n",
    "\n",
    "# Your code here: show selected store locations\n",
    "mc = MarkerCluster()\n",
    "\n",
    "locations_of_interest = gpd.sjoin(starbucks_gdf, sel_counties)\n",
    "for idx, row in locations_of_interest.iterrows():\n",
    "    if not math.isnan(row['Longitude']) and not math.isnan(row['Latitude']):\n",
    "        mc.add_child(folium.Marker([row['Latitude'], row['Longitude']]))\n",
    "\n",
    "m_6.add_child(mc)\n",
    "\n",
    "\n",
    "# Show the map\n",
    "embed_map(m_6, 'q_6.html')"
   ]
  },
  {
   "cell_type": "markdown",
   "id": "6e73cc64",
   "metadata": {
    "papermill": {
     "duration": 0.053672,
     "end_time": "2022-03-14T19:29:33.058682",
     "exception": false,
     "start_time": "2022-03-14T19:29:33.005010",
     "status": "completed"
    },
    "tags": []
   },
   "source": [
    "---\n",
    "\n",
    "\n",
    "\n",
    "\n",
    "*Have questions or comments? Visit the [course discussion forum](https://www.kaggle.com/learn/geospatial-analysis/discussion) to chat with other learners.*"
   ]
  }
 ],
 "metadata": {
  "kernelspec": {
   "display_name": "Python 3",
   "language": "python",
   "name": "python3"
  },
  "language_info": {
   "codemirror_mode": {
    "name": "ipython",
    "version": 3
   },
   "file_extension": ".py",
   "mimetype": "text/x-python",
   "name": "python",
   "nbconvert_exporter": "python",
   "pygments_lexer": "ipython3",
   "version": "3.7.12"
  },
  "papermill": {
   "default_parameters": {},
   "duration": 19.87731,
   "end_time": "2022-03-14T19:29:33.822011",
   "environment_variables": {},
   "exception": null,
   "input_path": "__notebook__.ipynb",
   "output_path": "__notebook__.ipynb",
   "parameters": {},
   "start_time": "2022-03-14T19:29:13.944701",
   "version": "2.3.3"
  }
 },
 "nbformat": 4,
 "nbformat_minor": 5
}
