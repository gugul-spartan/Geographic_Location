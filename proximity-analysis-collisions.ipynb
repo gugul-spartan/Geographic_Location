{
 "cells": [
  {
   "cell_type": "code",
   "execution_count": 1,
   "id": "883115ed",
   "metadata": {
    "_cell_guid": "b1076dfc-b9ad-4769-8c92-a6c4dae69d19",
    "_uuid": "8f2839f25d086af736a60e9eeb907d3b93b6e0e5",
    "execution": {
     "iopub.execute_input": "2022-03-14T19:22:38.720709Z",
     "iopub.status.busy": "2022-03-14T19:22:38.719675Z",
     "iopub.status.idle": "2022-03-14T19:22:39.635524Z",
     "shell.execute_reply": "2022-03-14T19:22:39.636070Z",
     "shell.execute_reply.started": "2022-03-14T19:19:32.206496Z"
    },
    "papermill": {
     "duration": 0.936916,
     "end_time": "2022-03-14T19:22:39.636352",
     "exception": false,
     "start_time": "2022-03-14T19:22:38.699436",
     "status": "completed"
    },
    "tags": []
   },
   "outputs": [
    {
     "name": "stderr",
     "output_type": "stream",
     "text": [
      "/opt/conda/lib/python3.7/site-packages/geopandas/_compat.py:115: UserWarning: The Shapely GEOS version (3.9.1-CAPI-1.14.2) is incompatible with the GEOS version PyGEOS was compiled with (3.10.1-CAPI-1.16.0). Conversions between both will be slow.\n",
      "  shapely_geos_version, geos_capi_version_string\n"
     ]
    },
    {
     "name": "stdout",
     "output_type": "stream",
     "text": [
      "/kaggle/input/geospatial-learn-course-data/CA_county_median_age.csv\n",
      "/kaggle/input/geospatial-learn-course-data/top_universities.csv\n",
      "/kaggle/input/geospatial-learn-course-data/japan-prefecture-population.csv\n",
      "/kaggle/input/geospatial-learn-course-data/CA_county_population.csv\n",
      "/kaggle/input/geospatial-learn-course-data/earthquakes1970-2014.csv\n",
      "/kaggle/input/geospatial-learn-course-data/Philippines_AL258.kml\n",
      "/kaggle/input/geospatial-learn-course-data/starbucks_locations.csv\n",
      "/kaggle/input/geospatial-learn-course-data/purple_martin.csv\n",
      "/kaggle/input/geospatial-learn-course-data/CA_county_high_earners.csv\n",
      "/kaggle/input/geospatial-learn-course-data/PhillyHealth_Air_Monitoring_Stations/PhillyHealth_Air_Monitoring_Stations/PhillyHealth_Air_Monitoring_Stations.cpg\n",
      "/kaggle/input/geospatial-learn-course-data/PhillyHealth_Air_Monitoring_Stations/PhillyHealth_Air_Monitoring_Stations/PhillyHealth_Air_Monitoring_Stations.shx\n",
      "/kaggle/input/geospatial-learn-course-data/PhillyHealth_Air_Monitoring_Stations/PhillyHealth_Air_Monitoring_Stations/PhillyHealth_Air_Monitoring_Stations.shp\n",
      "/kaggle/input/geospatial-learn-course-data/PhillyHealth_Air_Monitoring_Stations/PhillyHealth_Air_Monitoring_Stations/PhillyHealth_Air_Monitoring_Stations.prj\n",
      "/kaggle/input/geospatial-learn-course-data/PhillyHealth_Air_Monitoring_Stations/PhillyHealth_Air_Monitoring_Stations/PhillyHealth_Air_Monitoring_Stations.dbf\n",
      "/kaggle/input/geospatial-learn-course-data/NYPD_Motor_Vehicle_Collisions/NYPD_Motor_Vehicle_Collisions/NYPD_Motor_Vehicle_Collisions.cpg\n",
      "/kaggle/input/geospatial-learn-course-data/NYPD_Motor_Vehicle_Collisions/NYPD_Motor_Vehicle_Collisions/NYPD_Motor_Vehicle_Collisions.shp\n",
      "/kaggle/input/geospatial-learn-course-data/NYPD_Motor_Vehicle_Collisions/NYPD_Motor_Vehicle_Collisions/NYPD_Motor_Vehicle_Collisions.dbf\n",
      "/kaggle/input/geospatial-learn-course-data/NYPD_Motor_Vehicle_Collisions/NYPD_Motor_Vehicle_Collisions/NYPD_Motor_Vehicle_Collisions.shx\n",
      "/kaggle/input/geospatial-learn-course-data/NYPD_Motor_Vehicle_Collisions/NYPD_Motor_Vehicle_Collisions/NYPD_Motor_Vehicle_Collisions.prj\n",
      "/kaggle/input/geospatial-learn-course-data/ex4_files/ex4_files/add_3.cpg\n",
      "/kaggle/input/geospatial-learn-course-data/ex4_files/ex4_files/add_4.shx\n",
      "/kaggle/input/geospatial-learn-course-data/ex4_files/ex4_files/add_2.dbf\n",
      "/kaggle/input/geospatial-learn-course-data/ex4_files/ex4_files/add_4.dbf\n",
      "/kaggle/input/geospatial-learn-course-data/ex4_files/ex4_files/add_3.shx\n",
      "/kaggle/input/geospatial-learn-course-data/ex4_files/ex4_files/add_2.shp\n",
      "/kaggle/input/geospatial-learn-course-data/ex4_files/ex4_files/add_0.dbf\n",
      "/kaggle/input/geospatial-learn-course-data/ex4_files/ex4_files/add_1.dbf\n",
      "/kaggle/input/geospatial-learn-course-data/ex4_files/ex4_files/add_2.cpg\n",
      "/kaggle/input/geospatial-learn-course-data/ex4_files/ex4_files/add_0.cpg\n",
      "/kaggle/input/geospatial-learn-course-data/ex4_files/ex4_files/add_1.shx\n",
      "/kaggle/input/geospatial-learn-course-data/ex4_files/ex4_files/add_3.dbf\n",
      "/kaggle/input/geospatial-learn-course-data/ex4_files/ex4_files/add_4.cpg\n",
      "/kaggle/input/geospatial-learn-course-data/ex4_files/ex4_files/add_0.shx\n",
      "/kaggle/input/geospatial-learn-course-data/ex4_files/ex4_files/add_2.prj\n",
      "/kaggle/input/geospatial-learn-course-data/ex4_files/ex4_files/add_4.shp\n",
      "/kaggle/input/geospatial-learn-course-data/ex4_files/ex4_files/add_1.cpg\n",
      "/kaggle/input/geospatial-learn-course-data/ex4_files/ex4_files/add_3.prj\n",
      "/kaggle/input/geospatial-learn-course-data/ex4_files/ex4_files/add_0.shp\n",
      "/kaggle/input/geospatial-learn-course-data/ex4_files/ex4_files/add_4.prj\n",
      "/kaggle/input/geospatial-learn-course-data/ex4_files/ex4_files/add_1.prj\n",
      "/kaggle/input/geospatial-learn-course-data/ex4_files/ex4_files/add_0.prj\n",
      "/kaggle/input/geospatial-learn-course-data/ex4_files/ex4_files/add_1.shp\n",
      "/kaggle/input/geospatial-learn-course-data/ex4_files/ex4_files/add_2.shx\n",
      "/kaggle/input/geospatial-learn-course-data/ex4_files/ex4_files/add_3.shp\n",
      "/kaggle/input/geospatial-learn-course-data/nyu_2451_34494/nyu_2451_34494/nyu_2451_34494.shx\n",
      "/kaggle/input/geospatial-learn-course-data/nyu_2451_34494/nyu_2451_34494/nyu_2451_34494.prj\n",
      "/kaggle/input/geospatial-learn-course-data/nyu_2451_34494/nyu_2451_34494/nyu_2451_34494.shp\n",
      "/kaggle/input/geospatial-learn-course-data/nyu_2451_34494/nyu_2451_34494/nyu_2451_34494.cpg\n",
      "/kaggle/input/geospatial-learn-course-data/nyu_2451_34494/nyu_2451_34494/nyu_2451_34494.dbf\n",
      "/kaggle/input/geospatial-learn-course-data/SAPA_Aug2019-shapefile/SAPA_Aug2019-shapefile/SAPA_Aug2019-shapefile-polygons.cpg\n",
      "/kaggle/input/geospatial-learn-course-data/SAPA_Aug2019-shapefile/SAPA_Aug2019-shapefile/SAPA_Aug2019-shapefile-polygons.shp\n",
      "/kaggle/input/geospatial-learn-course-data/SAPA_Aug2019-shapefile/SAPA_Aug2019-shapefile/SAPA_Aug2019-shapefile-polygons.shx\n",
      "/kaggle/input/geospatial-learn-course-data/SAPA_Aug2019-shapefile/SAPA_Aug2019-shapefile/SAPA_Aug2019-shapefile-polygons.dbf\n",
      "/kaggle/input/geospatial-learn-course-data/SAPA_Aug2019-shapefile/SAPA_Aug2019-shapefile/SAPA_Aug2019-shapefile-polygons.prj\n",
      "/kaggle/input/geospatial-learn-course-data/Plate_Boundaries/Plate_Boundaries/Plate_Boundaries.prj\n",
      "/kaggle/input/geospatial-learn-course-data/Plate_Boundaries/Plate_Boundaries/Plate_Boundaries.shx\n",
      "/kaggle/input/geospatial-learn-course-data/Plate_Boundaries/Plate_Boundaries/Plate_Boundaries.dbf\n",
      "/kaggle/input/geospatial-learn-course-data/Plate_Boundaries/Plate_Boundaries/Plate_Boundaries.shp.xml\n",
      "/kaggle/input/geospatial-learn-course-data/Plate_Boundaries/Plate_Boundaries/Plate_Boundaries.shp\n",
      "/kaggle/input/geospatial-learn-course-data/Plate_Boundaries/Plate_Boundaries/Plate_Boundaries.sbn\n",
      "/kaggle/input/geospatial-learn-course-data/Plate_Boundaries/Plate_Boundaries/Plate_Boundaries.sbx\n",
      "/kaggle/input/geospatial-learn-course-data/DEC_roadstrails/DEC_roadstrails/Decroadstrails.prj\n",
      "/kaggle/input/geospatial-learn-course-data/DEC_roadstrails/DEC_roadstrails/Decroadstrails.shp\n",
      "/kaggle/input/geospatial-learn-course-data/DEC_roadstrails/DEC_roadstrails/Decroadstrails.CPG\n",
      "/kaggle/input/geospatial-learn-course-data/DEC_roadstrails/DEC_roadstrails/Decroadstrails.dbf\n",
      "/kaggle/input/geospatial-learn-course-data/DEC_roadstrails/DEC_roadstrails/Decroadstrails.sbn\n",
      "/kaggle/input/geospatial-learn-course-data/DEC_roadstrails/DEC_roadstrails/Decroadstrails.shp.xml\n",
      "/kaggle/input/geospatial-learn-course-data/DEC_roadstrails/DEC_roadstrails/Decroadstrails.shx\n",
      "/kaggle/input/geospatial-learn-course-data/DEC_roadstrails/DEC_roadstrails/Decroadstrails.sbx\n",
      "/kaggle/input/geospatial-learn-course-data/DEC_roadstrails/DEC_roadstrails/DECroadstrails.html\n",
      "/kaggle/input/geospatial-learn-course-data/crimes-in-boston/crimes-in-boston/crime.csv\n",
      "/kaggle/input/geospatial-learn-course-data/crimes-in-boston/crimes-in-boston/offense_codes.csv\n",
      "/kaggle/input/geospatial-learn-course-data/kiva_loans/kiva_loans/kiva_loans.cpg\n",
      "/kaggle/input/geospatial-learn-course-data/kiva_loans/kiva_loans/kiva_loans.shx\n",
      "/kaggle/input/geospatial-learn-course-data/kiva_loans/kiva_loans/kiva_loans.dbf\n",
      "/kaggle/input/geospatial-learn-course-data/kiva_loans/kiva_loans/kiva_loans.shp\n",
      "/kaggle/input/geospatial-learn-course-data/Police_Districts/Police_Districts/Police_Districts.shp\n",
      "/kaggle/input/geospatial-learn-course-data/Police_Districts/Police_Districts/Police_Districts.dbf\n",
      "/kaggle/input/geospatial-learn-course-data/Police_Districts/Police_Districts/Police_Districts.prj\n",
      "/kaggle/input/geospatial-learn-course-data/Police_Districts/Police_Districts/Police_Districts.cpg\n",
      "/kaggle/input/geospatial-learn-course-data/Police_Districts/Police_Districts/Police_Districts.shx\n",
      "/kaggle/input/geospatial-learn-course-data/japan-prefecture-boundaries/japan-prefecture-boundaries/japan-prefecture-boundaries.cpg\n",
      "/kaggle/input/geospatial-learn-course-data/japan-prefecture-boundaries/japan-prefecture-boundaries/japan-prefecture-boundaries.dbf\n",
      "/kaggle/input/geospatial-learn-course-data/japan-prefecture-boundaries/japan-prefecture-boundaries/japan-prefecture-boundaries.shp\n",
      "/kaggle/input/geospatial-learn-course-data/japan-prefecture-boundaries/japan-prefecture-boundaries/japan-prefecture-boundaries.shx\n",
      "/kaggle/input/geospatial-learn-course-data/japan-prefecture-boundaries/japan-prefecture-boundaries/japan-prefecture-boundaries.prj\n",
      "/kaggle/input/geospatial-learn-course-data/DEC_pointsinterest/DEC_pointsinterest/Decptsofinterest.shx\n",
      "/kaggle/input/geospatial-learn-course-data/DEC_pointsinterest/DEC_pointsinterest/DEC_pointsinterest.htm\n",
      "/kaggle/input/geospatial-learn-course-data/DEC_pointsinterest/DEC_pointsinterest/Decptsofinterest.sbx\n",
      "/kaggle/input/geospatial-learn-course-data/DEC_pointsinterest/DEC_pointsinterest/Decptsofinterest.dbf\n",
      "/kaggle/input/geospatial-learn-course-data/DEC_pointsinterest/DEC_pointsinterest/Decptsofinterest.CPG\n",
      "/kaggle/input/geospatial-learn-course-data/DEC_pointsinterest/DEC_pointsinterest/Decptsofinterest.sbn\n",
      "/kaggle/input/geospatial-learn-course-data/DEC_pointsinterest/DEC_pointsinterest/Decptsofinterest.shp\n",
      "/kaggle/input/geospatial-learn-course-data/DEC_pointsinterest/DEC_pointsinterest/Decptsofinterest.shp.xml\n",
      "/kaggle/input/geospatial-learn-course-data/DEC_pointsinterest/DEC_pointsinterest/Decptsofinterest.prj\n",
      "/kaggle/input/geospatial-learn-course-data/CA_county_boundaries/CA_county_boundaries/CA_county_boundaries.prj\n",
      "/kaggle/input/geospatial-learn-course-data/CA_county_boundaries/CA_county_boundaries/CA_county_boundaries.dbf\n",
      "/kaggle/input/geospatial-learn-course-data/CA_county_boundaries/CA_county_boundaries/CA_county_boundaries.shp\n",
      "/kaggle/input/geospatial-learn-course-data/CA_county_boundaries/CA_county_boundaries/CA_county_boundaries.shx\n",
      "/kaggle/input/geospatial-learn-course-data/CA_county_boundaries/CA_county_boundaries/CA_county_boundaries.cpg\n",
      "/kaggle/input/geospatial-learn-course-data/ghana/ghana/health_facilities.csv\n",
      "/kaggle/input/geospatial-learn-course-data/ghana/ghana/Regions/Map_of_Regions_in_Ghana.cpg\n",
      "/kaggle/input/geospatial-learn-course-data/ghana/ghana/Regions/Map_of_Regions_in_Ghana.shp\n",
      "/kaggle/input/geospatial-learn-course-data/ghana/ghana/Regions/Map_of_Regions_in_Ghana.shx\n",
      "/kaggle/input/geospatial-learn-course-data/ghana/ghana/Regions/Map_of_Regions_in_Ghana.dbf\n",
      "/kaggle/input/geospatial-learn-course-data/ghana/ghana/Regions/Map_of_Regions_in_Ghana.shp.xml\n",
      "/kaggle/input/geospatial-learn-course-data/ghana/ghana/Regions/Map_of_Regions_in_Ghana.prj\n",
      "/kaggle/input/geospatial-learn-course-data/DEC_lands/DEC_lands/DEC_lands.sbx\n",
      "/kaggle/input/geospatial-learn-course-data/DEC_lands/DEC_lands/DEC_lands.shp.xml\n",
      "/kaggle/input/geospatial-learn-course-data/DEC_lands/DEC_lands/DEC_Lands.html\n",
      "/kaggle/input/geospatial-learn-course-data/DEC_lands/DEC_lands/DEC_lands.cpg\n",
      "/kaggle/input/geospatial-learn-course-data/DEC_lands/DEC_lands/DEC_lands.prj\n",
      "/kaggle/input/geospatial-learn-course-data/DEC_lands/DEC_lands/DEC_lands.dbf\n",
      "/kaggle/input/geospatial-learn-course-data/DEC_lands/DEC_lands/DEC_lands.shx\n",
      "/kaggle/input/geospatial-learn-course-data/DEC_lands/DEC_lands/DEC_lands.sbn\n",
      "/kaggle/input/geospatial-learn-course-data/DEC_lands/DEC_lands/DEC_lands.shp\n",
      "/kaggle/input/geospatial-learn-course-data/toxic_release_pennsylvania/toxic_release_pennsylvania/toxic_release_pennsylvania.shp\n",
      "/kaggle/input/geospatial-learn-course-data/toxic_release_pennsylvania/toxic_release_pennsylvania/toxic_release_pennsylvania.cpg\n",
      "/kaggle/input/geospatial-learn-course-data/toxic_release_pennsylvania/toxic_release_pennsylvania/toxic_release_pennsylvania.shx\n",
      "/kaggle/input/geospatial-learn-course-data/toxic_release_pennsylvania/toxic_release_pennsylvania/toxic_release_pennsylvania.dbf\n",
      "/kaggle/input/geospatial-learn-course-data/toxic_release_pennsylvania/toxic_release_pennsylvania/toxic_release_pennsylvania.prj\n",
      "/kaggle/input/geospatial-learn-course-data/NY_county_boundaries/NY_county_boundaries/NY_county_boundaries.prj\n",
      "/kaggle/input/geospatial-learn-course-data/NY_county_boundaries/NY_county_boundaries/NY_county_boundaries.shp\n",
      "/kaggle/input/geospatial-learn-course-data/NY_county_boundaries/NY_county_boundaries/NY_county_boundaries.shx\n",
      "/kaggle/input/geospatial-learn-course-data/NY_county_boundaries/NY_county_boundaries/NY_county_boundaries.dbf\n",
      "/kaggle/input/geospatial-learn-course-data/NY_county_boundaries/NY_county_boundaries/NY_county_boundaries.cpg\n"
     ]
    }
   ],
   "source": [
    "# This Python 3 environment comes with many helpful analytics libraries installed\n",
    "# It is defined by the kaggle/python Docker image: https://github.com/kaggle/docker-python\n",
    "# For example, here's several helpful packages to load\n",
    "\n",
    "import numpy as np # linear algebra\n",
    "import pandas as pd # data processing, CSV file I/O (e.g. pd.read_csv)\n",
    "import geopandas as gpd\n",
    "# Input data files are available in the read-only \"../input/\" directory\n",
    "# For example, running this (by clicking run or pressing Shift+Enter) will list all files under the input directory\n",
    "\n",
    "import os\n",
    "for dirname, _, filenames in os.walk('/kaggle/input'):\n",
    "    for filename in filenames:\n",
    "        print(os.path.join(dirname, filename))\n",
    "\n",
    "# You can write up to 20GB to the current directory (/kaggle/working/) that gets preserved as output when you create a version using \"Save & Run All\" \n",
    "# You can also write temporary files to /kaggle/temp/, but they won't be saved outside of the current session"
   ]
  },
  {
   "cell_type": "markdown",
   "id": "cd1b5861",
   "metadata": {
    "papermill": {
     "duration": 0.020037,
     "end_time": "2022-03-14T19:22:39.674499",
     "exception": false,
     "start_time": "2022-03-14T19:22:39.654462",
     "status": "completed"
    },
    "tags": []
   },
   "source": [
    "# how hospitals have been responding to crash collisions in New York City."
   ]
  },
  {
   "cell_type": "code",
   "execution_count": 2,
   "id": "2ecaa692",
   "metadata": {
    "execution": {
     "iopub.execute_input": "2022-03-14T19:22:39.727911Z",
     "iopub.status.busy": "2022-03-14T19:22:39.726814Z",
     "iopub.status.idle": "2022-03-14T19:22:40.051174Z",
     "shell.execute_reply": "2022-03-14T19:22:40.050606Z",
     "shell.execute_reply.started": "2022-03-14T19:19:33.356314Z"
    },
    "papermill": {
     "duration": 0.358106,
     "end_time": "2022-03-14T19:22:40.051316",
     "exception": false,
     "start_time": "2022-03-14T19:22:39.693210",
     "status": "completed"
    },
    "tags": []
   },
   "outputs": [],
   "source": [
    "import math\n",
    "import geopandas as gpd\n",
    "import pandas as pd\n",
    "from shapely.geometry import MultiPolygon\n",
    "\n",
    "import folium\n",
    "from folium import Choropleth, Marker\n",
    "from folium.plugins import HeatMap, MarkerCluster"
   ]
  },
  {
   "cell_type": "code",
   "execution_count": 3,
   "id": "2ee766d2",
   "metadata": {
    "execution": {
     "iopub.execute_input": "2022-03-14T19:22:40.092216Z",
     "iopub.status.busy": "2022-03-14T19:22:40.091340Z",
     "iopub.status.idle": "2022-03-14T19:22:40.094459Z",
     "shell.execute_reply": "2022-03-14T19:22:40.093958Z",
     "shell.execute_reply.started": "2022-03-14T19:19:33.807752Z"
    },
    "papermill": {
     "duration": 0.025881,
     "end_time": "2022-03-14T19:22:40.094598",
     "exception": false,
     "start_time": "2022-03-14T19:22:40.068717",
     "status": "completed"
    },
    "tags": []
   },
   "outputs": [],
   "source": [
    "# To Visualize\n",
    "def embed_map(m, file_name):\n",
    "    from IPython.display import IFrame\n",
    "    m.save(file_name)\n",
    "    return IFrame(file_name, width='100%', height='1000px')"
   ]
  },
  {
   "cell_type": "code",
   "execution_count": 4,
   "id": "40ae5ec2",
   "metadata": {
    "execution": {
     "iopub.execute_input": "2022-03-14T19:22:40.311457Z",
     "iopub.status.busy": "2022-03-14T19:22:40.199083Z",
     "iopub.status.idle": "2022-03-14T19:23:10.333102Z",
     "shell.execute_reply": "2022-03-14T19:23:10.333564Z",
     "shell.execute_reply.started": "2022-03-14T19:19:33.814295Z"
    },
    "papermill": {
     "duration": 30.220933,
     "end_time": "2022-03-14T19:23:10.333742",
     "exception": false,
     "start_time": "2022-03-14T19:22:40.112809",
     "status": "completed"
    },
    "tags": []
   },
   "outputs": [
    {
     "data": {
      "text/html": [
       "<div>\n",
       "<style scoped>\n",
       "    .dataframe tbody tr th:only-of-type {\n",
       "        vertical-align: middle;\n",
       "    }\n",
       "\n",
       "    .dataframe tbody tr th {\n",
       "        vertical-align: top;\n",
       "    }\n",
       "\n",
       "    .dataframe thead th {\n",
       "        text-align: right;\n",
       "    }\n",
       "</style>\n",
       "<table border=\"1\" class=\"dataframe\">\n",
       "  <thead>\n",
       "    <tr style=\"text-align: right;\">\n",
       "      <th></th>\n",
       "      <th>DATE</th>\n",
       "      <th>TIME</th>\n",
       "      <th>BOROUGH</th>\n",
       "      <th>ZIP CODE</th>\n",
       "      <th>LATITUDE</th>\n",
       "      <th>LONGITUDE</th>\n",
       "      <th>LOCATION</th>\n",
       "      <th>ON STREET</th>\n",
       "      <th>CROSS STRE</th>\n",
       "      <th>OFF STREET</th>\n",
       "      <th>...</th>\n",
       "      <th>CONTRIBU_2</th>\n",
       "      <th>CONTRIBU_3</th>\n",
       "      <th>CONTRIBU_4</th>\n",
       "      <th>UNIQUE KEY</th>\n",
       "      <th>VEHICLE TY</th>\n",
       "      <th>VEHICLE _1</th>\n",
       "      <th>VEHICLE _2</th>\n",
       "      <th>VEHICLE _3</th>\n",
       "      <th>VEHICLE _4</th>\n",
       "      <th>geometry</th>\n",
       "    </tr>\n",
       "  </thead>\n",
       "  <tbody>\n",
       "    <tr>\n",
       "      <th>0</th>\n",
       "      <td>07/30/2019</td>\n",
       "      <td>0:00</td>\n",
       "      <td>BRONX</td>\n",
       "      <td>10464</td>\n",
       "      <td>40.841100</td>\n",
       "      <td>-73.784960</td>\n",
       "      <td>(40.8411, -73.78496)</td>\n",
       "      <td>None</td>\n",
       "      <td>None</td>\n",
       "      <td>121       PILOT STREET</td>\n",
       "      <td>...</td>\n",
       "      <td>Unspecified</td>\n",
       "      <td>None</td>\n",
       "      <td>None</td>\n",
       "      <td>4180045</td>\n",
       "      <td>Sedan</td>\n",
       "      <td>Station Wagon/Sport Utility Vehicle</td>\n",
       "      <td>Station Wagon/Sport Utility Vehicle</td>\n",
       "      <td>None</td>\n",
       "      <td>None</td>\n",
       "      <td>POINT (1043750.211 245785.815)</td>\n",
       "    </tr>\n",
       "    <tr>\n",
       "      <th>1</th>\n",
       "      <td>07/30/2019</td>\n",
       "      <td>0:10</td>\n",
       "      <td>QUEENS</td>\n",
       "      <td>11423</td>\n",
       "      <td>40.710827</td>\n",
       "      <td>-73.770660</td>\n",
       "      <td>(40.710827, -73.77066)</td>\n",
       "      <td>JAMAICA AVENUE</td>\n",
       "      <td>188 STREET</td>\n",
       "      <td>None</td>\n",
       "      <td>...</td>\n",
       "      <td>None</td>\n",
       "      <td>None</td>\n",
       "      <td>None</td>\n",
       "      <td>4180007</td>\n",
       "      <td>Sedan</td>\n",
       "      <td>Sedan</td>\n",
       "      <td>None</td>\n",
       "      <td>None</td>\n",
       "      <td>None</td>\n",
       "      <td>POINT (1047831.185 198333.171)</td>\n",
       "    </tr>\n",
       "    <tr>\n",
       "      <th>2</th>\n",
       "      <td>07/30/2019</td>\n",
       "      <td>0:25</td>\n",
       "      <td>None</td>\n",
       "      <td>None</td>\n",
       "      <td>40.880318</td>\n",
       "      <td>-73.841286</td>\n",
       "      <td>(40.880318, -73.841286)</td>\n",
       "      <td>BOSTON ROAD</td>\n",
       "      <td>None</td>\n",
       "      <td>None</td>\n",
       "      <td>...</td>\n",
       "      <td>None</td>\n",
       "      <td>None</td>\n",
       "      <td>None</td>\n",
       "      <td>4179575</td>\n",
       "      <td>Sedan</td>\n",
       "      <td>Station Wagon/Sport Utility Vehicle</td>\n",
       "      <td>None</td>\n",
       "      <td>None</td>\n",
       "      <td>None</td>\n",
       "      <td>POINT (1028139.293 260041.178)</td>\n",
       "    </tr>\n",
       "    <tr>\n",
       "      <th>3</th>\n",
       "      <td>07/30/2019</td>\n",
       "      <td>0:35</td>\n",
       "      <td>MANHATTAN</td>\n",
       "      <td>10036</td>\n",
       "      <td>40.756744</td>\n",
       "      <td>-73.984590</td>\n",
       "      <td>(40.756744, -73.98459)</td>\n",
       "      <td>None</td>\n",
       "      <td>None</td>\n",
       "      <td>155       WEST 44 STREET</td>\n",
       "      <td>...</td>\n",
       "      <td>None</td>\n",
       "      <td>None</td>\n",
       "      <td>None</td>\n",
       "      <td>4179544</td>\n",
       "      <td>Box Truck</td>\n",
       "      <td>Station Wagon/Sport Utility Vehicle</td>\n",
       "      <td>None</td>\n",
       "      <td>None</td>\n",
       "      <td>None</td>\n",
       "      <td>POINT (988519.261 214979.320)</td>\n",
       "    </tr>\n",
       "    <tr>\n",
       "      <th>4</th>\n",
       "      <td>07/30/2019</td>\n",
       "      <td>10:00</td>\n",
       "      <td>BROOKLYN</td>\n",
       "      <td>11223</td>\n",
       "      <td>40.600090</td>\n",
       "      <td>-73.965910</td>\n",
       "      <td>(40.60009, -73.96591)</td>\n",
       "      <td>AVENUE T</td>\n",
       "      <td>OCEAN PARKWAY</td>\n",
       "      <td>None</td>\n",
       "      <td>...</td>\n",
       "      <td>None</td>\n",
       "      <td>None</td>\n",
       "      <td>None</td>\n",
       "      <td>4180660</td>\n",
       "      <td>Station Wagon/Sport Utility Vehicle</td>\n",
       "      <td>Bike</td>\n",
       "      <td>None</td>\n",
       "      <td>None</td>\n",
       "      <td>None</td>\n",
       "      <td>POINT (993716.669 157907.212)</td>\n",
       "    </tr>\n",
       "  </tbody>\n",
       "</table>\n",
       "<p>5 rows × 30 columns</p>\n",
       "</div>"
      ],
      "text/plain": [
       "         DATE   TIME    BOROUGH ZIP CODE   LATITUDE  LONGITUDE  \\\n",
       "0  07/30/2019   0:00      BRONX    10464  40.841100 -73.784960   \n",
       "1  07/30/2019   0:10     QUEENS    11423  40.710827 -73.770660   \n",
       "2  07/30/2019   0:25       None     None  40.880318 -73.841286   \n",
       "3  07/30/2019   0:35  MANHATTAN    10036  40.756744 -73.984590   \n",
       "4  07/30/2019  10:00   BROOKLYN    11223  40.600090 -73.965910   \n",
       "\n",
       "                  LOCATION       ON STREET     CROSS STRE  \\\n",
       "0     (40.8411, -73.78496)            None           None   \n",
       "1   (40.710827, -73.77066)  JAMAICA AVENUE     188 STREET   \n",
       "2  (40.880318, -73.841286)     BOSTON ROAD           None   \n",
       "3   (40.756744, -73.98459)            None           None   \n",
       "4    (40.60009, -73.96591)        AVENUE T  OCEAN PARKWAY   \n",
       "\n",
       "                 OFF STREET  ...   CONTRIBU_2  CONTRIBU_3  CONTRIBU_4  \\\n",
       "0    121       PILOT STREET  ...  Unspecified        None        None   \n",
       "1                      None  ...         None        None        None   \n",
       "2                      None  ...         None        None        None   \n",
       "3  155       WEST 44 STREET  ...         None        None        None   \n",
       "4                      None  ...         None        None        None   \n",
       "\n",
       "   UNIQUE KEY                           VEHICLE TY  \\\n",
       "0     4180045                                Sedan   \n",
       "1     4180007                                Sedan   \n",
       "2     4179575                                Sedan   \n",
       "3     4179544                            Box Truck   \n",
       "4     4180660  Station Wagon/Sport Utility Vehicle   \n",
       "\n",
       "                            VEHICLE _1                           VEHICLE _2  \\\n",
       "0  Station Wagon/Sport Utility Vehicle  Station Wagon/Sport Utility Vehicle   \n",
       "1                                Sedan                                 None   \n",
       "2  Station Wagon/Sport Utility Vehicle                                 None   \n",
       "3  Station Wagon/Sport Utility Vehicle                                 None   \n",
       "4                                 Bike                                 None   \n",
       "\n",
       "   VEHICLE _3 VEHICLE _4                        geometry  \n",
       "0        None       None  POINT (1043750.211 245785.815)  \n",
       "1        None       None  POINT (1047831.185 198333.171)  \n",
       "2        None       None  POINT (1028139.293 260041.178)  \n",
       "3        None       None   POINT (988519.261 214979.320)  \n",
       "4        None       None   POINT (993716.669 157907.212)  \n",
       "\n",
       "[5 rows x 30 columns]"
      ]
     },
     "execution_count": 4,
     "metadata": {},
     "output_type": "execute_result"
    }
   ],
   "source": [
    "collisions = gpd.read_file(\"../input/geospatial-learn-course-data/NYPD_Motor_Vehicle_Collisions/NYPD_Motor_Vehicle_Collisions/NYPD_Motor_Vehicle_Collisions.shp\")\n",
    "collisions.head()"
   ]
  },
  {
   "cell_type": "code",
   "execution_count": 5,
   "id": "144d53fc",
   "metadata": {
    "execution": {
     "iopub.execute_input": "2022-03-14T19:23:10.375822Z",
     "iopub.status.busy": "2022-03-14T19:23:10.375219Z",
     "iopub.status.idle": "2022-03-14T19:23:10.378755Z",
     "shell.execute_reply": "2022-03-14T19:23:10.378304Z",
     "shell.execute_reply.started": "2022-03-14T19:20:10.939442Z"
    },
    "papermill": {
     "duration": 0.026797,
     "end_time": "2022-03-14T19:23:10.378933",
     "exception": false,
     "start_time": "2022-03-14T19:23:10.352136",
     "status": "completed"
    },
    "tags": []
   },
   "outputs": [
    {
     "data": {
      "text/plain": [
       "Index(['DATE', 'TIME', 'BOROUGH', 'ZIP CODE', 'LATITUDE', 'LONGITUDE',\n",
       "       'LOCATION', 'ON STREET', 'CROSS STRE', 'OFF STREET', 'NUMBER OF',\n",
       "       'NUMBER O_1', 'NUMBER O_2', 'NUMBER O_3', 'NUMBER O_4', 'NUMBER O_5',\n",
       "       'NUMBER O_6', 'NUMBER O_7', 'CONTRIBUTI', 'CONTRIBU_1', 'CONTRIBU_2',\n",
       "       'CONTRIBU_3', 'CONTRIBU_4', 'UNIQUE KEY', 'VEHICLE TY', 'VEHICLE _1',\n",
       "       'VEHICLE _2', 'VEHICLE _3', 'VEHICLE _4', 'geometry'],\n",
       "      dtype='object')"
      ]
     },
     "execution_count": 5,
     "metadata": {},
     "output_type": "execute_result"
    }
   ],
   "source": [
    "collisions.columns"
   ]
  },
  {
   "cell_type": "code",
   "execution_count": 6,
   "id": "7eec776b",
   "metadata": {
    "execution": {
     "iopub.execute_input": "2022-03-14T19:23:10.419975Z",
     "iopub.status.busy": "2022-03-14T19:23:10.419421Z",
     "iopub.status.idle": "2022-03-14T19:23:10.879464Z",
     "shell.execute_reply": "2022-03-14T19:23:10.879901Z",
     "shell.execute_reply.started": "2022-03-14T19:20:10.948828Z"
    },
    "papermill": {
     "duration": 0.482826,
     "end_time": "2022-03-14T19:23:10.880083",
     "exception": false,
     "start_time": "2022-03-14T19:23:10.397257",
     "status": "completed"
    },
    "tags": []
   },
   "outputs": [
    {
     "name": "stdout",
     "output_type": "stream",
     "text": [
      "<class 'geopandas.geodataframe.GeoDataFrame'>\n",
      "RangeIndex: 261905 entries, 0 to 261904\n",
      "Data columns (total 30 columns):\n",
      " #   Column      Non-Null Count   Dtype   \n",
      "---  ------      --------------   -----   \n",
      " 0   DATE        261905 non-null  object  \n",
      " 1   TIME        261905 non-null  object  \n",
      " 2   BOROUGH     199243 non-null  object  \n",
      " 3   ZIP CODE    199200 non-null  object  \n",
      " 4   LATITUDE    261905 non-null  float64 \n",
      " 5   LONGITUDE   261905 non-null  float64 \n",
      " 6   LOCATION    261905 non-null  object  \n",
      " 7   ON STREET   225789 non-null  object  \n",
      " 8   CROSS STRE  185029 non-null  object  \n",
      " 9   OFF STREET  23998 non-null   object  \n",
      " 10  NUMBER OF   261905 non-null  float64 \n",
      " 11  NUMBER O_1  261892 non-null  float64 \n",
      " 12  NUMBER O_2  261905 non-null  int64   \n",
      " 13  NUMBER O_3  261905 non-null  int64   \n",
      " 14  NUMBER O_4  261905 non-null  int64   \n",
      " 15  NUMBER O_5  261905 non-null  int64   \n",
      " 16  NUMBER O_6  261905 non-null  int64   \n",
      " 17  NUMBER O_7  261905 non-null  int64   \n",
      " 18  CONTRIBUTI  260121 non-null  object  \n",
      " 19  CONTRIBU_1  179946 non-null  object  \n",
      " 20  CONTRIBU_2  29992 non-null   object  \n",
      " 21  CONTRIBU_3  7754 non-null    object  \n",
      " 22  CONTRIBU_4  2197 non-null    object  \n",
      " 23  UNIQUE KEY  261905 non-null  int64   \n",
      " 24  VEHICLE TY  258879 non-null  object  \n",
      " 25  VEHICLE _1  177975 non-null  object  \n",
      " 26  VEHICLE _2  34495 non-null   object  \n",
      " 27  VEHICLE _3  12765 non-null   object  \n",
      " 28  VEHICLE _4  3694 non-null    object  \n",
      " 29  geometry    261905 non-null  geometry\n",
      "dtypes: float64(4), geometry(1), int64(7), object(18)\n",
      "memory usage: 59.9+ MB\n"
     ]
    }
   ],
   "source": [
    "collisions.info()"
   ]
  },
  {
   "cell_type": "code",
   "execution_count": 7,
   "id": "99375063",
   "metadata": {
    "execution": {
     "iopub.execute_input": "2022-03-14T19:23:10.923099Z",
     "iopub.status.busy": "2022-03-14T19:23:10.922483Z",
     "iopub.status.idle": "2022-03-14T19:23:10.968375Z",
     "shell.execute_reply": "2022-03-14T19:23:10.967852Z",
     "shell.execute_reply.started": "2022-03-14T19:20:11.518749Z"
    },
    "papermill": {
     "duration": 0.069788,
     "end_time": "2022-03-14T19:23:10.968512",
     "exception": false,
     "start_time": "2022-03-14T19:23:10.898724",
     "status": "completed"
    },
    "tags": []
   },
   "outputs": [
    {
     "data": {
      "text/html": [
       "<div>\n",
       "<style scoped>\n",
       "    .dataframe tbody tr th:only-of-type {\n",
       "        vertical-align: middle;\n",
       "    }\n",
       "\n",
       "    .dataframe tbody tr th {\n",
       "        vertical-align: top;\n",
       "    }\n",
       "\n",
       "    .dataframe thead th {\n",
       "        text-align: right;\n",
       "    }\n",
       "</style>\n",
       "<table border=\"1\" class=\"dataframe\">\n",
       "  <thead>\n",
       "    <tr style=\"text-align: right;\">\n",
       "      <th></th>\n",
       "      <th>DATE</th>\n",
       "      <th>TIME</th>\n",
       "      <th>LATITUDE</th>\n",
       "      <th>LONGITUDE</th>\n",
       "      <th>LOCATION</th>\n",
       "      <th>UNIQUE KEY</th>\n",
       "      <th>geometry</th>\n",
       "    </tr>\n",
       "  </thead>\n",
       "  <tbody>\n",
       "    <tr>\n",
       "      <th>0</th>\n",
       "      <td>07/30/2019</td>\n",
       "      <td>0:00</td>\n",
       "      <td>40.841100</td>\n",
       "      <td>-73.784960</td>\n",
       "      <td>(40.8411, -73.78496)</td>\n",
       "      <td>4180045</td>\n",
       "      <td>POINT (1043750.211 245785.815)</td>\n",
       "    </tr>\n",
       "    <tr>\n",
       "      <th>1</th>\n",
       "      <td>07/30/2019</td>\n",
       "      <td>0:10</td>\n",
       "      <td>40.710827</td>\n",
       "      <td>-73.770660</td>\n",
       "      <td>(40.710827, -73.77066)</td>\n",
       "      <td>4180007</td>\n",
       "      <td>POINT (1047831.185 198333.171)</td>\n",
       "    </tr>\n",
       "    <tr>\n",
       "      <th>2</th>\n",
       "      <td>07/30/2019</td>\n",
       "      <td>0:25</td>\n",
       "      <td>40.880318</td>\n",
       "      <td>-73.841286</td>\n",
       "      <td>(40.880318, -73.841286)</td>\n",
       "      <td>4179575</td>\n",
       "      <td>POINT (1028139.293 260041.178)</td>\n",
       "    </tr>\n",
       "    <tr>\n",
       "      <th>3</th>\n",
       "      <td>07/30/2019</td>\n",
       "      <td>0:35</td>\n",
       "      <td>40.756744</td>\n",
       "      <td>-73.984590</td>\n",
       "      <td>(40.756744, -73.98459)</td>\n",
       "      <td>4179544</td>\n",
       "      <td>POINT (988519.261 214979.320)</td>\n",
       "    </tr>\n",
       "    <tr>\n",
       "      <th>4</th>\n",
       "      <td>07/30/2019</td>\n",
       "      <td>10:00</td>\n",
       "      <td>40.600090</td>\n",
       "      <td>-73.965910</td>\n",
       "      <td>(40.60009, -73.96591)</td>\n",
       "      <td>4180660</td>\n",
       "      <td>POINT (993716.669 157907.212)</td>\n",
       "    </tr>\n",
       "    <tr>\n",
       "      <th>5</th>\n",
       "      <td>07/30/2019</td>\n",
       "      <td>10:50</td>\n",
       "      <td>40.721060</td>\n",
       "      <td>-73.759450</td>\n",
       "      <td>(40.72106, -73.75945)</td>\n",
       "      <td>4179812</td>\n",
       "      <td>POINT (1050928.749 202069.687)</td>\n",
       "    </tr>\n",
       "    <tr>\n",
       "      <th>6</th>\n",
       "      <td>07/30/2019</td>\n",
       "      <td>10:55</td>\n",
       "      <td>40.676228</td>\n",
       "      <td>-73.761120</td>\n",
       "      <td>(40.676228, -73.76112)</td>\n",
       "      <td>4180464</td>\n",
       "      <td>POINT (1050510.380 185734.852)</td>\n",
       "    </tr>\n",
       "    <tr>\n",
       "      <th>7</th>\n",
       "      <td>07/30/2019</td>\n",
       "      <td>11:00</td>\n",
       "      <td>40.752975</td>\n",
       "      <td>-73.910240</td>\n",
       "      <td>(40.752975, -73.91024)</td>\n",
       "      <td>4180993</td>\n",
       "      <td>POINT (1009118.946 213618.517)</td>\n",
       "    </tr>\n",
       "    <tr>\n",
       "      <th>8</th>\n",
       "      <td>07/30/2019</td>\n",
       "      <td>11:03</td>\n",
       "      <td>40.630337</td>\n",
       "      <td>-73.993420</td>\n",
       "      <td>(40.630337, -73.99342)</td>\n",
       "      <td>4179981</td>\n",
       "      <td>POINT (986076.414 168925.212)</td>\n",
       "    </tr>\n",
       "    <tr>\n",
       "      <th>9</th>\n",
       "      <td>07/30/2019</td>\n",
       "      <td>11:40</td>\n",
       "      <td>40.757760</td>\n",
       "      <td>-73.783400</td>\n",
       "      <td>(40.75776, -73.7834)</td>\n",
       "      <td>4179801</td>\n",
       "      <td>POINT (1044256.932 215423.295)</td>\n",
       "    </tr>\n",
       "  </tbody>\n",
       "</table>\n",
       "</div>"
      ],
      "text/plain": [
       "         DATE   TIME   LATITUDE  LONGITUDE                 LOCATION  \\\n",
       "0  07/30/2019   0:00  40.841100 -73.784960     (40.8411, -73.78496)   \n",
       "1  07/30/2019   0:10  40.710827 -73.770660   (40.710827, -73.77066)   \n",
       "2  07/30/2019   0:25  40.880318 -73.841286  (40.880318, -73.841286)   \n",
       "3  07/30/2019   0:35  40.756744 -73.984590   (40.756744, -73.98459)   \n",
       "4  07/30/2019  10:00  40.600090 -73.965910    (40.60009, -73.96591)   \n",
       "5  07/30/2019  10:50  40.721060 -73.759450    (40.72106, -73.75945)   \n",
       "6  07/30/2019  10:55  40.676228 -73.761120   (40.676228, -73.76112)   \n",
       "7  07/30/2019  11:00  40.752975 -73.910240   (40.752975, -73.91024)   \n",
       "8  07/30/2019  11:03  40.630337 -73.993420   (40.630337, -73.99342)   \n",
       "9  07/30/2019  11:40  40.757760 -73.783400     (40.75776, -73.7834)   \n",
       "\n",
       "   UNIQUE KEY                        geometry  \n",
       "0     4180045  POINT (1043750.211 245785.815)  \n",
       "1     4180007  POINT (1047831.185 198333.171)  \n",
       "2     4179575  POINT (1028139.293 260041.178)  \n",
       "3     4179544   POINT (988519.261 214979.320)  \n",
       "4     4180660   POINT (993716.669 157907.212)  \n",
       "5     4179812  POINT (1050928.749 202069.687)  \n",
       "6     4180464  POINT (1050510.380 185734.852)  \n",
       "7     4180993  POINT (1009118.946 213618.517)  \n",
       "8     4179981   POINT (986076.414 168925.212)  \n",
       "9     4179801  POINT (1044256.932 215423.295)  "
      ]
     },
     "execution_count": 7,
     "metadata": {},
     "output_type": "execute_result"
    }
   ],
   "source": [
    "collision = collisions[['DATE','TIME','LATITUDE','LONGITUDE','LOCATION','UNIQUE KEY','geometry']]\n",
    "collision.head(10)"
   ]
  },
  {
   "cell_type": "code",
   "execution_count": 8,
   "id": "4533b0cc",
   "metadata": {
    "execution": {
     "iopub.execute_input": "2022-03-14T19:23:11.118482Z",
     "iopub.status.busy": "2022-03-14T19:23:11.117838Z",
     "iopub.status.idle": "2022-03-14T19:23:11.130017Z",
     "shell.execute_reply": "2022-03-14T19:23:11.129521Z",
     "shell.execute_reply.started": "2022-03-14T19:20:11.576648Z"
    },
    "papermill": {
     "duration": 0.142456,
     "end_time": "2022-03-14T19:23:11.130151",
     "exception": false,
     "start_time": "2022-03-14T19:23:10.987695",
     "status": "completed"
    },
    "tags": []
   },
   "outputs": [
    {
     "data": {
      "text/plain": [
       "DATE          0\n",
       "TIME          0\n",
       "LATITUDE      0\n",
       "LONGITUDE     0\n",
       "LOCATION      0\n",
       "UNIQUE KEY    0\n",
       "geometry      0\n",
       "dtype: int64"
      ]
     },
     "execution_count": 8,
     "metadata": {},
     "output_type": "execute_result"
    }
   ],
   "source": [
    "collision.isnull().sum()"
   ]
  },
  {
   "cell_type": "code",
   "execution_count": 9,
   "id": "0fa4dfc9",
   "metadata": {
    "execution": {
     "iopub.execute_input": "2022-03-14T19:23:11.175355Z",
     "iopub.status.busy": "2022-03-14T19:23:11.174691Z",
     "iopub.status.idle": "2022-03-14T19:23:13.982159Z",
     "shell.execute_reply": "2022-03-14T19:23:13.982600Z",
     "shell.execute_reply.started": "2022-03-14T19:20:11.732588Z"
    },
    "papermill": {
     "duration": 2.832813,
     "end_time": "2022-03-14T19:23:13.982776",
     "exception": false,
     "start_time": "2022-03-14T19:23:11.149963",
     "status": "completed"
    },
    "tags": []
   },
   "outputs": [
    {
     "data": {
      "text/html": [
       "\n",
       "        <iframe\n",
       "            width=\"100%\"\n",
       "            height=\"1000px\"\n",
       "            src=\"collision.html\"\n",
       "            frameborder=\"0\"\n",
       "            allowfullscreen\n",
       "            \n",
       "        ></iframe>\n",
       "        "
      ],
      "text/plain": [
       "<IPython.lib.display.IFrame at 0x7f96c80427d0>"
      ]
     },
     "execution_count": 9,
     "metadata": {},
     "output_type": "execute_result"
    }
   ],
   "source": [
    "m_1 = folium.Map(location=[40.7, -74], zoom_start=11) \n",
    "\n",
    "# Visualize the collision data\n",
    "HeatMap(data=collision[['LATITUDE', 'LONGITUDE']], radius=9).add_to(m_1)\n",
    "embed_map(m_1, \"collision.html\")"
   ]
  },
  {
   "cell_type": "code",
   "execution_count": 10,
   "id": "16df421f",
   "metadata": {
    "execution": {
     "iopub.execute_input": "2022-03-14T19:23:14.049290Z",
     "iopub.status.busy": "2022-03-14T19:23:14.048569Z",
     "iopub.status.idle": "2022-03-14T19:23:14.169592Z",
     "shell.execute_reply": "2022-03-14T19:23:14.170015Z",
     "shell.execute_reply.started": "2022-03-14T19:20:16.923950Z"
    },
    "papermill": {
     "duration": 0.167314,
     "end_time": "2022-03-14T19:23:14.170182",
     "exception": false,
     "start_time": "2022-03-14T19:23:14.002868",
     "status": "completed"
    },
    "tags": []
   },
   "outputs": [
    {
     "data": {
      "text/html": [
       "<div>\n",
       "<style scoped>\n",
       "    .dataframe tbody tr th:only-of-type {\n",
       "        vertical-align: middle;\n",
       "    }\n",
       "\n",
       "    .dataframe tbody tr th {\n",
       "        vertical-align: top;\n",
       "    }\n",
       "\n",
       "    .dataframe thead th {\n",
       "        text-align: right;\n",
       "    }\n",
       "</style>\n",
       "<table border=\"1\" class=\"dataframe\">\n",
       "  <thead>\n",
       "    <tr style=\"text-align: right;\">\n",
       "      <th></th>\n",
       "      <th>id</th>\n",
       "      <th>name</th>\n",
       "      <th>address</th>\n",
       "      <th>zip</th>\n",
       "      <th>factype</th>\n",
       "      <th>facname</th>\n",
       "      <th>capacity</th>\n",
       "      <th>capname</th>\n",
       "      <th>bcode</th>\n",
       "      <th>xcoord</th>\n",
       "      <th>ycoord</th>\n",
       "      <th>latitude</th>\n",
       "      <th>longitude</th>\n",
       "      <th>geometry</th>\n",
       "    </tr>\n",
       "  </thead>\n",
       "  <tbody>\n",
       "    <tr>\n",
       "      <th>0</th>\n",
       "      <td>317000001H1178</td>\n",
       "      <td>BRONX-LEBANON HOSPITAL CENTER - CONCOURSE DIVI...</td>\n",
       "      <td>1650 Grand Concourse</td>\n",
       "      <td>10457</td>\n",
       "      <td>3102</td>\n",
       "      <td>Hospital</td>\n",
       "      <td>415</td>\n",
       "      <td>Beds</td>\n",
       "      <td>36005</td>\n",
       "      <td>1008872.0</td>\n",
       "      <td>246596.0</td>\n",
       "      <td>40.843490</td>\n",
       "      <td>-73.911010</td>\n",
       "      <td>POINT (1008872.000 246596.000)</td>\n",
       "    </tr>\n",
       "    <tr>\n",
       "      <th>1</th>\n",
       "      <td>317000001H1164</td>\n",
       "      <td>BRONX-LEBANON HOSPITAL CENTER - FULTON DIVISION</td>\n",
       "      <td>1276 Fulton Ave</td>\n",
       "      <td>10456</td>\n",
       "      <td>3102</td>\n",
       "      <td>Hospital</td>\n",
       "      <td>164</td>\n",
       "      <td>Beds</td>\n",
       "      <td>36005</td>\n",
       "      <td>1011044.0</td>\n",
       "      <td>242204.0</td>\n",
       "      <td>40.831429</td>\n",
       "      <td>-73.903178</td>\n",
       "      <td>POINT (1011044.000 242204.000)</td>\n",
       "    </tr>\n",
       "    <tr>\n",
       "      <th>2</th>\n",
       "      <td>317000011H1175</td>\n",
       "      <td>CALVARY HOSPITAL INC</td>\n",
       "      <td>1740-70 Eastchester Rd</td>\n",
       "      <td>10461</td>\n",
       "      <td>3102</td>\n",
       "      <td>Hospital</td>\n",
       "      <td>225</td>\n",
       "      <td>Beds</td>\n",
       "      <td>36005</td>\n",
       "      <td>1027505.0</td>\n",
       "      <td>248287.0</td>\n",
       "      <td>40.848060</td>\n",
       "      <td>-73.843656</td>\n",
       "      <td>POINT (1027505.000 248287.000)</td>\n",
       "    </tr>\n",
       "    <tr>\n",
       "      <th>3</th>\n",
       "      <td>317000002H1165</td>\n",
       "      <td>JACOBI MEDICAL CENTER</td>\n",
       "      <td>1400 Pelham Pkwy</td>\n",
       "      <td>10461</td>\n",
       "      <td>3102</td>\n",
       "      <td>Hospital</td>\n",
       "      <td>457</td>\n",
       "      <td>Beds</td>\n",
       "      <td>36005</td>\n",
       "      <td>1027042.0</td>\n",
       "      <td>251065.0</td>\n",
       "      <td>40.855687</td>\n",
       "      <td>-73.845311</td>\n",
       "      <td>POINT (1027042.000 251065.000)</td>\n",
       "    </tr>\n",
       "    <tr>\n",
       "      <th>4</th>\n",
       "      <td>317000008H1172</td>\n",
       "      <td>LINCOLN MEDICAL &amp; MENTAL HEALTH CENTER</td>\n",
       "      <td>234 E 149 St</td>\n",
       "      <td>10451</td>\n",
       "      <td>3102</td>\n",
       "      <td>Hospital</td>\n",
       "      <td>362</td>\n",
       "      <td>Beds</td>\n",
       "      <td>36005</td>\n",
       "      <td>1005154.0</td>\n",
       "      <td>236853.0</td>\n",
       "      <td>40.816758</td>\n",
       "      <td>-73.924478</td>\n",
       "      <td>POINT (1005154.000 236853.000)</td>\n",
       "    </tr>\n",
       "  </tbody>\n",
       "</table>\n",
       "</div>"
      ],
      "text/plain": [
       "               id                                               name  \\\n",
       "0  317000001H1178  BRONX-LEBANON HOSPITAL CENTER - CONCOURSE DIVI...   \n",
       "1  317000001H1164    BRONX-LEBANON HOSPITAL CENTER - FULTON DIVISION   \n",
       "2  317000011H1175                               CALVARY HOSPITAL INC   \n",
       "3  317000002H1165                              JACOBI MEDICAL CENTER   \n",
       "4  317000008H1172             LINCOLN MEDICAL & MENTAL HEALTH CENTER   \n",
       "\n",
       "                  address    zip factype   facname capacity capname  bcode  \\\n",
       "0    1650 Grand Concourse  10457    3102  Hospital      415    Beds  36005   \n",
       "1         1276 Fulton Ave  10456    3102  Hospital      164    Beds  36005   \n",
       "2  1740-70 Eastchester Rd  10461    3102  Hospital      225    Beds  36005   \n",
       "3        1400 Pelham Pkwy  10461    3102  Hospital      457    Beds  36005   \n",
       "4            234 E 149 St  10451    3102  Hospital      362    Beds  36005   \n",
       "\n",
       "      xcoord    ycoord   latitude  longitude                        geometry  \n",
       "0  1008872.0  246596.0  40.843490 -73.911010  POINT (1008872.000 246596.000)  \n",
       "1  1011044.0  242204.0  40.831429 -73.903178  POINT (1011044.000 242204.000)  \n",
       "2  1027505.0  248287.0  40.848060 -73.843656  POINT (1027505.000 248287.000)  \n",
       "3  1027042.0  251065.0  40.855687 -73.845311  POINT (1027042.000 251065.000)  \n",
       "4  1005154.0  236853.0  40.816758 -73.924478  POINT (1005154.000 236853.000)  "
      ]
     },
     "execution_count": 10,
     "metadata": {},
     "output_type": "execute_result"
    }
   ],
   "source": [
    "hospitals = gpd.read_file(\"../input/geospatial-learn-course-data/nyu_2451_34494/nyu_2451_34494/nyu_2451_34494.shp\")\n",
    "hospitals.head()"
   ]
  },
  {
   "cell_type": "code",
   "execution_count": 11,
   "id": "d86f2913",
   "metadata": {
    "execution": {
     "iopub.execute_input": "2022-03-14T19:23:14.214092Z",
     "iopub.status.busy": "2022-03-14T19:23:14.213451Z",
     "iopub.status.idle": "2022-03-14T19:23:14.217918Z",
     "shell.execute_reply": "2022-03-14T19:23:14.218425Z",
     "shell.execute_reply.started": "2022-03-14T19:20:17.106177Z"
    },
    "papermill": {
     "duration": 0.028098,
     "end_time": "2022-03-14T19:23:14.218582",
     "exception": false,
     "start_time": "2022-03-14T19:23:14.190484",
     "status": "completed"
    },
    "tags": []
   },
   "outputs": [
    {
     "data": {
      "text/plain": [
       "(62, 14)"
      ]
     },
     "execution_count": 11,
     "metadata": {},
     "output_type": "execute_result"
    }
   ],
   "source": [
    "hospitals.shape"
   ]
  },
  {
   "cell_type": "code",
   "execution_count": 12,
   "id": "8acabdd2",
   "metadata": {
    "execution": {
     "iopub.execute_input": "2022-03-14T19:23:14.262974Z",
     "iopub.status.busy": "2022-03-14T19:23:14.262401Z",
     "iopub.status.idle": "2022-03-14T19:23:14.273039Z",
     "shell.execute_reply": "2022-03-14T19:23:14.272546Z",
     "shell.execute_reply.started": "2022-03-14T19:20:17.115768Z"
    },
    "papermill": {
     "duration": 0.033915,
     "end_time": "2022-03-14T19:23:14.273181",
     "exception": false,
     "start_time": "2022-03-14T19:23:14.239266",
     "status": "completed"
    },
    "tags": []
   },
   "outputs": [
    {
     "data": {
      "text/plain": [
       "id           62\n",
       "name         62\n",
       "address      62\n",
       "zip          46\n",
       "factype       1\n",
       "facname       1\n",
       "capacity     57\n",
       "capname       2\n",
       "bcode         5\n",
       "xcoord       62\n",
       "ycoord       62\n",
       "latitude     62\n",
       "longitude    62\n",
       "geometry     62\n",
       "dtype: int64"
      ]
     },
     "execution_count": 12,
     "metadata": {},
     "output_type": "execute_result"
    }
   ],
   "source": [
    "hospitals.nunique()"
   ]
  },
  {
   "cell_type": "code",
   "execution_count": 13,
   "id": "eaf892fa",
   "metadata": {
    "execution": {
     "iopub.execute_input": "2022-03-14T19:23:14.318914Z",
     "iopub.status.busy": "2022-03-14T19:23:14.318298Z",
     "iopub.status.idle": "2022-03-14T19:23:14.420933Z",
     "shell.execute_reply": "2022-03-14T19:23:14.420389Z",
     "shell.execute_reply.started": "2022-03-14T19:20:17.144277Z"
    },
    "papermill": {
     "duration": 0.126794,
     "end_time": "2022-03-14T19:23:14.421082",
     "exception": false,
     "start_time": "2022-03-14T19:23:14.294288",
     "status": "completed"
    },
    "tags": []
   },
   "outputs": [
    {
     "data": {
      "text/html": [
       "\n",
       "        <iframe\n",
       "            width=\"100%\"\n",
       "            height=\"1000px\"\n",
       "            src=\"q_2.html\"\n",
       "            frameborder=\"0\"\n",
       "            allowfullscreen\n",
       "            \n",
       "        ></iframe>\n",
       "        "
      ],
      "text/plain": [
       "<IPython.lib.display.IFrame at 0x7f96c807cf50>"
      ]
     },
     "execution_count": 13,
     "metadata": {},
     "output_type": "execute_result"
    }
   ],
   "source": [
    "m_2 = folium.Map(location=[40.7, -74], zoom_start=11) \n",
    "\n",
    "#  Visualize the hospital locations\n",
    "for idx, row in hospitals.iterrows():\n",
    "    Marker([row['latitude'], row['longitude']], popup=row['name']).add_to(m_2)\n",
    "\n",
    "        \n",
    "# Show the map\n",
    "embed_map(m_2, \"q_2.html\")"
   ]
  },
  {
   "cell_type": "code",
   "execution_count": 14,
   "id": "e74ad2f8",
   "metadata": {
    "execution": {
     "iopub.execute_input": "2022-03-14T19:23:14.468032Z",
     "iopub.status.busy": "2022-03-14T19:23:14.467249Z",
     "iopub.status.idle": "2022-03-14T19:23:49.342089Z",
     "shell.execute_reply": "2022-03-14T19:23:49.341372Z",
     "shell.execute_reply.started": "2022-03-14T19:20:17.292206Z"
    },
    "papermill": {
     "duration": 34.899099,
     "end_time": "2022-03-14T19:23:49.342247",
     "exception": false,
     "start_time": "2022-03-14T19:23:14.443148",
     "status": "completed"
    },
    "tags": []
   },
   "outputs": [],
   "source": [
    "coverage = gpd.GeoDataFrame(geometry=hospitals.geometry).buffer(10000)\n",
    "my_union = coverage.geometry.unary_union\n",
    "outside_range = collision.loc[~collision[\"geometry\"].apply(lambda x: my_union.contains(x))]\n"
   ]
  },
  {
   "cell_type": "code",
   "execution_count": 15,
   "id": "4e61e2c7",
   "metadata": {
    "execution": {
     "iopub.execute_input": "2022-03-14T19:23:49.390766Z",
     "iopub.status.busy": "2022-03-14T19:23:49.389995Z",
     "iopub.status.idle": "2022-03-14T19:23:49.393003Z",
     "shell.execute_reply": "2022-03-14T19:23:49.393436Z",
     "shell.execute_reply.started": "2022-03-14T19:20:59.158639Z"
    },
    "papermill": {
     "duration": 0.02966,
     "end_time": "2022-03-14T19:23:49.393595",
     "exception": false,
     "start_time": "2022-03-14T19:23:49.363935",
     "status": "completed"
    },
    "tags": []
   },
   "outputs": [
    {
     "data": {
      "text/plain": [
       "(39595, 7)"
      ]
     },
     "execution_count": 15,
     "metadata": {},
     "output_type": "execute_result"
    }
   ],
   "source": [
    "outside_range.shape"
   ]
  },
  {
   "cell_type": "code",
   "execution_count": 16,
   "id": "0c250ced",
   "metadata": {
    "execution": {
     "iopub.execute_input": "2022-03-14T19:23:49.440786Z",
     "iopub.status.busy": "2022-03-14T19:23:49.439843Z",
     "iopub.status.idle": "2022-03-14T19:23:49.445674Z",
     "shell.execute_reply": "2022-03-14T19:23:49.445104Z",
     "shell.execute_reply.started": "2022-03-14T19:20:59.167184Z"
    },
    "papermill": {
     "duration": 0.030532,
     "end_time": "2022-03-14T19:23:49.445817",
     "exception": false,
     "start_time": "2022-03-14T19:23:49.415285",
     "status": "completed"
    },
    "tags": []
   },
   "outputs": [
    {
     "name": "stdout",
     "output_type": "stream",
     "text": [
      "Percentage of collisions more than 10 km away from the closest hospital: 15.12%\n"
     ]
    }
   ],
   "source": [
    "percentage = round(100*len(outside_range)/len(collisions), 2)\n",
    "print(\"Percentage of collisions more than 10 km away from the closest hospital: {}%\".format(percentage))"
   ]
  },
  {
   "cell_type": "code",
   "execution_count": 17,
   "id": "7767dab3",
   "metadata": {
    "execution": {
     "iopub.execute_input": "2022-03-14T19:23:49.493080Z",
     "iopub.status.busy": "2022-03-14T19:23:49.492145Z",
     "iopub.status.idle": "2022-03-14T19:23:49.496486Z",
     "shell.execute_reply": "2022-03-14T19:23:49.497030Z",
     "shell.execute_reply.started": "2022-03-14T19:20:59.181566Z"
    },
    "papermill": {
     "duration": 0.029458,
     "end_time": "2022-03-14T19:23:49.497194",
     "exception": false,
     "start_time": "2022-03-14T19:23:49.467736",
     "status": "completed"
    },
    "tags": []
   },
   "outputs": [],
   "source": [
    "# Make a recomender\n",
    "def best_hospital(collision_location):\n",
    "    idx_min = hospitals.geometry.distance(collision_location).idxmin()\n",
    "    my_hospital = hospitals.iloc[idx_min]\n",
    "    name = my_hospital[\"name\"]\n",
    "    return name"
   ]
  },
  {
   "cell_type": "code",
   "execution_count": 18,
   "id": "b6799825",
   "metadata": {
    "execution": {
     "iopub.execute_input": "2022-03-14T19:23:49.544156Z",
     "iopub.status.busy": "2022-03-14T19:23:49.543247Z",
     "iopub.status.idle": "2022-03-14T19:24:13.807607Z",
     "shell.execute_reply": "2022-03-14T19:24:13.807000Z",
     "shell.execute_reply.started": "2022-03-14T19:20:59.197599Z"
    },
    "papermill": {
     "duration": 24.288789,
     "end_time": "2022-03-14T19:24:13.807798",
     "exception": false,
     "start_time": "2022-03-14T19:23:49.519009",
     "status": "completed"
    },
    "tags": []
   },
   "outputs": [],
   "source": [
    "highest_demand = outside_range.geometry.apply(best_hospital).value_counts().idxmax()"
   ]
  },
  {
   "cell_type": "code",
   "execution_count": 19,
   "id": "dde6b879",
   "metadata": {
    "execution": {
     "iopub.execute_input": "2022-03-14T19:24:13.856983Z",
     "iopub.status.busy": "2022-03-14T19:24:13.854986Z",
     "iopub.status.idle": "2022-03-14T19:24:13.860501Z",
     "shell.execute_reply": "2022-03-14T19:24:13.860042Z",
     "shell.execute_reply.started": "2022-03-14T19:21:25.644030Z"
    },
    "papermill": {
     "duration": 0.030775,
     "end_time": "2022-03-14T19:24:13.860647",
     "exception": false,
     "start_time": "2022-03-14T19:24:13.829872",
     "status": "completed"
    },
    "tags": []
   },
   "outputs": [
    {
     "data": {
      "text/plain": [
       "'JAMAICA HOSPITAL MEDICAL CENTER'"
      ]
     },
     "execution_count": 19,
     "metadata": {},
     "output_type": "execute_result"
    }
   ],
   "source": [
    "highest_demand"
   ]
  },
  {
   "cell_type": "code",
   "execution_count": 20,
   "id": "ef9f8e27",
   "metadata": {
    "execution": {
     "iopub.execute_input": "2022-03-14T19:24:13.910513Z",
     "iopub.status.busy": "2022-03-14T19:24:13.909899Z",
     "iopub.status.idle": "2022-03-14T19:24:14.574768Z",
     "shell.execute_reply": "2022-03-14T19:24:14.575218Z",
     "shell.execute_reply.started": "2022-03-14T19:21:25.652257Z"
    },
    "papermill": {
     "duration": 0.692441,
     "end_time": "2022-03-14T19:24:14.575417",
     "exception": false,
     "start_time": "2022-03-14T19:24:13.882976",
     "status": "completed"
    },
    "tags": []
   },
   "outputs": [
    {
     "data": {
      "text/html": [
       "\n",
       "        <iframe\n",
       "            width=\"100%\"\n",
       "            height=\"1000px\"\n",
       "            src=\"m_6.html\"\n",
       "            frameborder=\"0\"\n",
       "            allowfullscreen\n",
       "            \n",
       "        ></iframe>\n",
       "        "
      ],
      "text/plain": [
       "<IPython.lib.display.IFrame at 0x7f96c6a59b50>"
      ]
     },
     "execution_count": 20,
     "metadata": {},
     "output_type": "execute_result"
    }
   ],
   "source": [
    "m_6 = folium.Map(location=[40.7, -74], zoom_start=10) \n",
    "\n",
    "coverage = gpd.GeoDataFrame(geometry=hospitals.geometry).buffer(10000)\n",
    "folium.GeoJson(coverage.geometry.to_crs(epsg=4326)).add_to(m_6)\n",
    "HeatMap(data=outside_range[['LATITUDE', 'LONGITUDE']], radius=9).add_to(m_6)\n",
    "folium.LatLngPopup().add_to(m_6)\n",
    "\n",
    "embed_map(m_6, 'm_6.html')"
   ]
  },
  {
   "cell_type": "code",
   "execution_count": null,
   "id": "31213e12",
   "metadata": {
    "papermill": {
     "duration": 0.022407,
     "end_time": "2022-03-14T19:24:14.620622",
     "exception": false,
     "start_time": "2022-03-14T19:24:14.598215",
     "status": "completed"
    },
    "tags": []
   },
   "outputs": [],
   "source": []
  }
 ],
 "metadata": {
  "kernelspec": {
   "display_name": "Python 3",
   "language": "python",
   "name": "python3"
  },
  "language_info": {
   "codemirror_mode": {
    "name": "ipython",
    "version": 3
   },
   "file_extension": ".py",
   "mimetype": "text/x-python",
   "name": "python",
   "nbconvert_exporter": "python",
   "pygments_lexer": "ipython3",
   "version": "3.7.12"
  },
  "papermill": {
   "default_parameters": {},
   "duration": 105.945926,
   "end_time": "2022-03-14T19:24:16.057657",
   "environment_variables": {},
   "exception": null,
   "input_path": "__notebook__.ipynb",
   "output_path": "__notebook__.ipynb",
   "parameters": {},
   "start_time": "2022-03-14T19:22:30.111731",
   "version": "2.3.3"
  }
 },
 "nbformat": 4,
 "nbformat_minor": 5
}
